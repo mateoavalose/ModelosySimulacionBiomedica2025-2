{
 "cells": [
  {
   "cell_type": "markdown",
   "id": "6903a348",
   "metadata": {},
   "source": [
    "## Quiz 1: Modelos de Regresión"
   ]
  },
  {
   "cell_type": "markdown",
   "id": "1eaad3c8",
   "metadata": {},
   "source": [
    "### 1. Importación, limpieza y visualización de la matriz de datos"
   ]
  },
  {
   "cell_type": "code",
   "execution_count": 1,
   "id": "3d4bb3b5",
   "metadata": {},
   "outputs": [
    {
     "data": {
      "text/latex": [
       "$\\displaystyle \\left[\\begin{matrix}0.0 & 4.5\\\\1.0 & 2.072249958\\\\2.0 & -0.56111019\\\\3.0 & -1.654057364\\\\4.0 & -1.215443\\\\5.0 & -0.211657052\\\\6.0 & 0.47211312\\\\7.0 & 0.550976028\\\\8.0 & 0.248347738\\\\9.0 & -0.073653794\\\\10.0 & -0.204131271\\\\11.0 & -0.147582838\\\\12.0 & -0.023894174\\\\13.0 & 0.058988645\\\\14.0 & 0.067441941\\end{matrix}\\right]$"
      ],
      "text/plain": [
       "Matrix([\n",
       "[ 0.0,          4.5],\n",
       "[ 1.0,  2.072249958],\n",
       "[ 2.0,  -0.56111019],\n",
       "[ 3.0, -1.654057364],\n",
       "[ 4.0,    -1.215443],\n",
       "[ 5.0, -0.211657052],\n",
       "[ 6.0,   0.47211312],\n",
       "[ 7.0,  0.550976028],\n",
       "[ 8.0,  0.248347738],\n",
       "[ 9.0, -0.073653794],\n",
       "[10.0, -0.204131271],\n",
       "[11.0, -0.147582838],\n",
       "[12.0, -0.023894174],\n",
       "[13.0,  0.058988645],\n",
       "[14.0,  0.067441941]])"
      ]
     },
     "execution_count": 1,
     "metadata": {},
     "output_type": "execute_result"
    }
   ],
   "source": [
    "import csv\n",
    "import numpy as np\n",
    "import sympy as sp\n",
    "import matplotlib.pyplot as plt\n",
    "\n",
    "with open('data.csv', newline='') as csvfile:\n",
    "    reader = csv.reader(csvfile)\n",
    "    csv_data = [row for row in reader]\n",
    "numeric_data = []\n",
    "for row in csv_data[1:]:\n",
    "    clean_row = [cell.replace('\\u200b', '').strip() for cell in row]\n",
    "    try:\n",
    "        numeric_row = [float(cell) for cell in clean_row]\n",
    "        numeric_data.append(numeric_row)\n",
    "    except ValueError:\n",
    "        continue # Skip rows that cannot be converted\n",
    "\n",
    "data = sp.Matrix(numeric_data)\n",
    "data"
   ]
  },
  {
   "cell_type": "markdown",
   "id": "dd987b6a",
   "metadata": {},
   "source": [
    "### 2. Visualización Gráfica de los Datos"
   ]
  },
  {
   "cell_type": "code",
   "execution_count": 2,
   "id": "14f36561",
   "metadata": {},
   "outputs": [
    {
     "data": {
      "image/png": "[encoded data removed]",
      "text/plain": [
       "<Figure size 600x400 with 1 Axes>"
      ]
     },
     "metadata": {},
     "output_type": "display_data"
    }
   ],
   "source": [
    "plt.figure(figsize=(6, 4))\n",
    "plt.scatter(data[:, 0], data[:, 1], label='Datos')\n",
    "plt.xlabel('x')\n",
    "plt.ylabel('y')\n",
    "plt.title('Visualización de los datos')\n",
    "plt.legend()\n",
    "plt.grid(True)\n",
    "plt.show()\n"
   ]
  },
  {
   "cell_type": "markdown",
   "id": "18bd4c08",
   "metadata": {},
   "source": [
    "### 3. Escoger la función para la tendencia de los datos"
   ]
  },
  {
   "cell_type": "code",
   "execution_count": 3,
   "id": "2e2199c0",
   "metadata": {},
   "outputs": [],
   "source": [
    "# Convertir la matriz de datos a lista de tuplas\n",
    "def prepare_data(raw_data):\n",
    "    if isinstance(raw_data, sp.Matrix):\n",
    "        return [(float(raw_data[i, 0]), float(raw_data[i, 1])) for i in range(raw_data.rows)]\n",
    "    elif isinstance(raw_data, (list, tuple)):\n",
    "        return [(float(xi), float(yi)) for xi, yi in raw_data]\n",
    "    else:\n",
    "        raise TypeError(\"Formato de datos no reconocido: use lista de tuplas o Sympy Matrix\")"
   ]
  },
  {
   "cell_type": "markdown",
   "id": "08f71924",
   "metadata": {},
   "source": [
    "#### a. Polinomial de Grado n"
   ]
  },
  {
   "cell_type": "code",
   "execution_count": null,
   "id": "bbb99e42",
   "metadata": {},
   "outputs": [
    {
     "name": "stdout",
     "output_type": "stream",
     "text": [
      "a0 = 0.106493506492654\n",
      "a1 = 1.95590909092607\n",
      "a2 = -1.44886363640398\n",
      "a3 = 0.501515151529020\n",
      "a4 = -0.0556818181839844\n",
      "a5 = 0.00166666666680726\n",
      "\n",
      "Modelo ajustado:\n"
     ]
    },
    {
     "data": {
      "text/latex": [
       "$\\displaystyle y = 0.00166666666680726 x^{5} - 0.0556818181839844 x^{4} + 0.50151515152902 x^{3} - 1.44886363640398 x^{2} + 1.95590909092607 x + 0.106493506492654$"
      ],
      "text/plain": [
       "Eq(y, 0.00166666666680726*x**5 - 0.0556818181839844*x**4 + 0.50151515152902*x**3 - 1.44886363640398*x**2 + 1.95590909092607*x + 0.106493506492654)"
      ]
     },
     "metadata": {},
     "output_type": "display_data"
    }
   ],
   "source": [
    "# Definir el modelo polinomial de grado n\n",
    "n = 5\n",
    "a = sp.symbols(f'a0:{n+1}')    # (a0, a1, ..., an)\n",
    "x = sp.symbols('x')\n",
    "model_poly = sum(a[i] * x**i for i in range(n+1))\n",
    "\n",
    "data = prepare_data(data)\n",
    "\n",
    "# Construir matriz A y vector y\n",
    "def build_poly_system(data_list, degree):\n",
    "    # A tendrá columnas [1, x, x^2, ..., x^degree]\n",
    "    A = sp.Matrix([[xi**j for j in range(degree+1)] for xi, yi in data_list])\n",
    "    y = sp.Matrix([yi for xi, yi in data_list])\n",
    "    return A, y\n",
    "\n",
    "A, y_vec = build_poly_system(data, n)\n",
    "\n",
    "# Resolver sistema normal: (A^T A) * a_vec = A^T * y\n",
    "AtA = A.T * A\n",
    "Aty = A.T * y_vec\n",
    "\n",
    "# Asegurarse de que AtA es invertible\n",
    "if AtA.det() == 0:\n",
    "    raise ValueError(\"La matriz A^T*A es singular para grado = {}.\".format(n))\n",
    "\n",
    "a_vec = AtA.inv() * Aty   # vector [a0, a1, ..., an]\n",
    "\n",
    "# Mostrar resultados\n",
    "for i, coeff in enumerate(a_vec):\n",
    "    print(f\"a{i} = {sp.simplify(coeff)}\")\n",
    "\n",
    "adjusted_model = sp.simplify(model_poly.subs({a[i]: a_vec[i] for i in range(n+1)}))\n",
    "print(\"\\nModelo ajustado:\")\n",
    "y = sp.symbols('y')\n",
    "display(sp.Eq(y, adjusted_model))"
   ]
  },
  {
   "cell_type": "markdown",
   "id": "7cc57d7e",
   "metadata": {},
   "source": [
    "#### b. Exponencial"
   ]
  },
  {
   "cell_type": "code",
   "execution_count": null,
   "id": "e2c7f764",
   "metadata": {},
   "outputs": [
    {
     "name": "stdout",
     "output_type": "stream",
     "text": [
      "\n",
      "Modelo ajustado:\n"
     ]
    },
    {
     "data": {
      "text/latex": [
       "$\\displaystyle y = 0.263986728811299 e^{0.655030050681627 x}$"
      ],
      "text/plain": [
       "Eq(y, 0.263986728811299*exp(0.655030050681627*x))"
      ]
     },
     "metadata": {},
     "output_type": "display_data"
    }
   ],
   "source": [
    "# Definir el modelo exponencial\n",
    "B0, B1, x = sp.symbols('B0 B1 x')\n",
    "\n",
    "data = prepare_data(data)\n",
    "# Transformación log y montar sistema lineal\n",
    "data_log = [(xi, np.log(yi)) for xi, yi in data]\n",
    "A = sp.Matrix([[xi, 1] for xi, _ in data_log])\n",
    "y_vec = sp.Matrix([yi for _, yi in data_log])\n",
    "\n",
    "# Resolver normales ln y = B0 + B1 x\n",
    "AtA = A.T * A\n",
    "Aty = A.T * y_vec\n",
    "B_vec = AtA.inv() * Aty\n",
    "B1_val = float(B_vec[0])\n",
    "B0_val = float(B_vec[1])\n",
    "A_val  = np.exp(B0_val)\n",
    "\n",
    "# Modelo simbólico original\n",
    "adjusted_model = A_val * sp.exp(B1_val * x)\n",
    "print(\"\\nModelo ajustado:\")\n",
    "y = sp.symbols('y')\n",
    "display(sp.Eq(y, adjusted_model))"
   ]
  },
  {
   "cell_type": "markdown",
   "id": "3dad2ac0",
   "metadata": {},
   "source": [
    "#### c. Logarítmica"
   ]
  },
  {
   "cell_type": "code",
   "execution_count": null,
   "id": "943ac270",
   "metadata": {},
   "outputs": [
    {
     "name": "stdout",
     "output_type": "stream",
     "text": [
      "\n",
      "Modelo ajustado:\n"
     ]
    },
    {
     "data": {
      "text/latex": [
       "$\\displaystyle y = 1.71914233996683 \\log{\\left(x \\right)} + 2.49254317155684$"
      ],
      "text/plain": [
       "Eq(y, 1.71914233996683*log(x) + 2.49254317155684)"
      ]
     },
     "metadata": {},
     "output_type": "display_data"
    }
   ],
   "source": [
    "# 1. Definir símbolos y modelo\n",
    "C0, C1, x = sp.symbols('C0 C1 x')\n",
    "model_logarithmic = C0 + C1*sp.log(x)\n",
    "\n",
    "# 2. Preparar datos\n",
    "data = prepare_data(data)  # usa la misma prepare_data que ya definiste\n",
    "\n",
    "# 3. Transformar x -> ln(x) y montar sistema lineal\n",
    "#    modelo: y = C0 + C1 * ln(x)  ==>  columna [ln(x), 1]\n",
    "A = sp.Matrix([[np.log(xi), 1] for xi, yi in data])\n",
    "y_vec = sp.Matrix([yi for xi, yi in data])\n",
    "\n",
    "# 4. Resolver las ecuaciones normales: (A^T A)·[C1, C0]^T = A^T·y\n",
    "AtA = A.T * A\n",
    "Aty = A.T * y_vec\n",
    "\n",
    "if AtA.det() == 0:\n",
    "    raise ValueError(\"A^T*A es singular en el modelo logarítmico.\")\n",
    "\n",
    "C_vec = AtA.inv() * Aty  # [C1, C0]\n",
    "C1_val = float(C_vec[0])\n",
    "C0_val = float(C_vec[1])\n",
    "\n",
    "# 5. Modelo ajustado simbólico\n",
    "adjusted_model = model_logarithmic.subs({C0: C0_val, C1: C1_val})\n",
    "print(\"\\nModelo ajustado:\")\n",
    "y = sp.symbols('y')\n",
    "display(sp.Eq(y, sp.simplify(adjusted_model)))"
   ]
  },
  {
   "cell_type": "markdown",
   "id": "c8741a38",
   "metadata": {},
   "source": [
    "#### d. Potencial"
   ]
  },
  {
   "cell_type": "code",
   "execution_count": 31,
   "id": "884081c3",
   "metadata": {},
   "outputs": [
    {
     "name": "stdout",
     "output_type": "stream",
     "text": [
      "P0 = 1.000607, P1 = 1.050793\n",
      "\n",
      "Modelo ajustado:\n"
     ]
    },
    {
     "data": {
      "text/latex": [
       "$\\displaystyle y = 1.00060724534419 x^{1.05079269452626}$"
      ],
      "text/plain": [
       "Eq(y, 1.00060724534419*x**1.05079269452626)"
      ]
     },
     "metadata": {},
     "output_type": "display_data"
    }
   ],
   "source": [
    "# Definir símbolos y modelo (transformado)\n",
    "P0, P1, x = sp.symbols('P0 P1 x')\n",
    "# Transformación: ln y = ln P0 + P1 * ln x\n",
    "B0, B1 = sp.symbols('B0 B1')\n",
    "model_log = B0 + B1*sp.log(x)\n",
    "\n",
    "# Preparar datos\n",
    "data = prepare_data(data)  # tu lista de tuplas o Sympy Matrix\n",
    "\n",
    "# Transformar datos: (u = ln x, v = ln y)\n",
    "data_log = [(np.log(xi), np.log(yi)) for xi, yi in data]\n",
    "A = sp.Matrix([[ui, 1] for ui, vi in data_log])\n",
    "y_vec = sp.Matrix([vi for ui, vi in data_log])\n",
    "\n",
    "# Resolver sistema normal: (A^T A)·[B1, B0]^T = A^T·v\n",
    "AtA = A.T * A\n",
    "Aty = A.T * y_vec\n",
    "\n",
    "if AtA.det() == 0:\n",
    "    raise ValueError(\"A^T*A es singular en el modelo potencial.\")\n",
    "\n",
    "B_vec = AtA.inv() * Aty\n",
    "B1_val = float(B_vec[0])   # = P1\n",
    "B0_val = float(B_vec[1])   # = ln P0\n",
    "P1_val = B1_val\n",
    "P0_val = np.exp(B0_val)\n",
    "\n",
    "print(f\"P0 = {P0_val:.6f}, P1 = {P1_val:.6f}\")\n",
    "\n",
    "# Modelo ajustado simbólico\n",
    "adjusted_model = P0_val * x**P1_val\n",
    "print(\"\\nModelo ajustado:\")\n",
    "y = sp.symbols('y')\n",
    "display(sp.Eq(y, sp.simplify(adjusted_model)))"
   ]
  },
  {
   "cell_type": "markdown",
   "id": "be6a63c0",
   "metadata": {},
   "source": [
    "#### e. Trigonométrica"
   ]
  },
  {
   "cell_type": "code",
   "execution_count": null,
   "id": "55926b76",
   "metadata": {},
   "outputs": [
    {
     "name": "stdout",
     "output_type": "stream",
     "text": [
      "\n",
      "Modelo ajustado:\n"
     ]
    },
    {
     "data": {
      "text/latex": [
       "$\\displaystyle y = - 4.59674612024715 \\sin{\\left(0.897597901025655 x - 1.36526824089392 \\right)}$"
      ],
      "text/plain": [
       "Eq(y, -4.59674612024715*sin(0.897597901025655*x - 1.36526824089392))"
      ]
     },
     "metadata": {},
     "output_type": "display_data"
    }
   ],
   "source": [
    "# Definir símbolos\n",
    "A, C, x = sp.symbols('A C x')\n",
    "\n",
    "# Asignar B a partir del período estimado\n",
    "x_max1 = 3\n",
    "x_max2 = 10\n",
    "T = abs(x_max2 - x_max1)\n",
    "B_val = 2 * np.pi / T\n",
    "\n",
    "# Modelo: y = A * sin(Bx + C), con B conocido\n",
    "model = A * sp.sin(B_val * x + C)\n",
    "\n",
    "# Preparar datos (se necesitan al menos 2 puntos para resolver A y C)\n",
    "data = prepare_data(data)\n",
    "\n",
    "if len(data) < 2:\n",
    "    raise ValueError(\"Se necesitan al menos 2 puntos para ajustar A y C.\")\n",
    "\n",
    "# Tomar 2 puntos y formar ecuaciones\n",
    "(x1, y1), (x2, y2) = data[:2]\n",
    "eq1 = sp.Eq(y1, A * sp.sin(B_val * x1 + C))\n",
    "eq2 = sp.Eq(y2, A * sp.sin(B_val * x2 + C))\n",
    "\n",
    "# Resolver sistema para A y C\n",
    "sols = sp.solve([eq1, eq2], (A, C), dict=True)\n",
    "\n",
    "if not sols:\n",
    "    raise ValueError(\"No se pudo resolver el sistema trigonométrico.\")\n",
    "\n",
    "sol = sols[0]\n",
    "A_val = sol[A]\n",
    "C_val = sol[C]\n",
    "\n",
    "# Sustituir en el modelo ajustado\n",
    "adjusted_model = model.subs({A: A_val, C: C_val})\n",
    "print(\"\\nModelo ajustado:\")\n",
    "y = sp.symbols('y')\n",
    "display(sp.Eq(y, adjusted_model))"
   ]
  },
  {
   "cell_type": "markdown",
   "id": "fb00724a",
   "metadata": {},
   "source": [
    "#### f. Resorte Amortiguado"
   ]
  },
  {
   "cell_type": "code",
   "execution_count": null,
   "id": "5cf01a51",
   "metadata": {},
   "outputs": [
    {
     "data": {
      "text/latex": [
       "$\\displaystyle y = 4.51885347629603 e^{- 0.301113947783649 x} \\cos{\\left(0.897597901025655 x \\right)}$"
      ],
      "text/plain": [
       "Eq(y, 4.51885347629603*exp(-0.301113947783649*x)*cos(0.897597901025655*x))"
      ]
     },
     "metadata": {},
     "output_type": "display_data"
    }
   ],
   "source": [
    "import sympy as sp\n",
    "import numpy as np\n",
    "\n",
    "# Definir símbolos\n",
    "B0, B1, x = sp.symbols('B0 B1 x')  # ln(A) y C\n",
    "A_sym, C_sym = sp.symbols('A C')   # para reemplazo final\n",
    "\n",
    "# Estimar frecuencia angular w a partir de dos máximos o mínimos conocidos\n",
    "x_max1 = 3\n",
    "x_max2 = 10\n",
    "T = abs(x_max2 - x_max1)\n",
    "w = 2 * np.pi / T  # omega - frecuencia angular\n",
    "\n",
    "# Preparar los datos\n",
    "data = prepare_data(data)\n",
    "\n",
    "# Transformación logarítmica del modelo: ln(y / cos(wx)) = B0 + B1 * x\n",
    "data_transformed = []\n",
    "for xi, yi in data:\n",
    "    cos_val = np.cos(w * xi)\n",
    "    if cos_val == 0 or yi / cos_val <= 0:\n",
    "        continue # Evitar log de 0 o número negativo\n",
    "    new_y = np.log(yi / cos_val)\n",
    "    data_transformed.append((xi, new_y))\n",
    "\n",
    "if len(data_transformed) < 2:\n",
    "    raise ValueError(\"No hay suficientes datos válidos después de la transformación.\")\n",
    "\n",
    "# Matriz A y vector y para sistema lineal\n",
    "A_mat = sp.Matrix([[xi, 1] for xi, _ in data_transformed])\n",
    "y_vec = sp.Matrix([yi for _, yi in data_transformed])\n",
    "\n",
    "# Resolver sistema normal: (A^T A) z = A^T y\n",
    "AtA = A_mat.T * A_mat\n",
    "Aty = A_mat.T * y_vec\n",
    "sol_vec = AtA.inv() * Aty\n",
    "\n",
    "B1_val = float(sol_vec[0])  # C\n",
    "B0_val = float(sol_vec[1])  # ln(A)\n",
    "A_val = np.exp(B0_val)\n",
    "C_val = B1_val\n",
    "\n",
    "# Modelo ajustado: y = A * exp(Cx) * cos(w x)\n",
    "adjusted_model = A_val * sp.exp(C_val * x) * sp.cos(w * x)\n",
    "\n",
    "# Mostrar el modelo\n",
    "y = sp.symbols('y')\n",
    "display(sp.Eq(y, adjusted_model))"
   ]
  },
  {
   "cell_type": "markdown",
   "id": "cf0115c0",
   "metadata": {},
   "source": [
    "### 4. Visualización y Análisis de Resultados"
   ]
  },
  {
   "cell_type": "code",
   "execution_count": 25,
   "id": "38b548ee",
   "metadata": {},
   "outputs": [
    {
     "data": {
      "image/png": "[encoded data removed]",
      "text/plain": [
       "<Figure size 600x400 with 1 Axes>"
      ]
     },
     "metadata": {},
     "output_type": "display_data"
    }
   ],
   "source": [
    "# Visualizar el modelo ajustado\n",
    "plt.figure(figsize=(6, 4))\n",
    "plt.scatter([xi for xi, yi in data], [yi for xi, yi in data], label='Datos')\n",
    "x_vals = [xi for xi, yi in data]\n",
    "y_vals = [adjusted_model.subs(x, xi) for xi in x_vals]\n",
    "plt.plot(x_vals, y_vals, color='red', label='Modelo Ajustado')\n",
    "plt.xlabel('x')\n",
    "plt.ylabel('y')\n",
    "plt.title('Visualización del modelo ajustado')\n",
    "plt.legend()\n",
    "plt.grid(True)\n",
    "plt.show()"
   ]
  },
  {
   "cell_type": "code",
   "execution_count": 26,
   "id": "a45f29f5",
   "metadata": {},
   "outputs": [
    {
     "name": "stdout",
     "output_type": "stream",
     "text": [
      "R cuadrado: 0.999965220445591\n",
      "ECM: 0.00816883628712524\n"
     ]
    }
   ],
   "source": [
    "# Evaluar el modelo ajustado\n",
    "# Calcular R cuadrado (Coeficiente de determinación)\n",
    "y_actual = [yi for xi, yi in data]\n",
    "y_predicted = [adjusted_model.subs(x, xi) for xi, yi in data]\n",
    "\n",
    "# Suma total de cuadrados (SST)\n",
    "sst = sum((yi - sp.Rational(sum(y_actual) / len(y_actual)))**2 for yi in y_actual)\n",
    "\n",
    "# Suma de cuadrados residuales (SSR)\n",
    "ssr = sum((yi - y_pred)**2 for yi, y_pred in zip(y_actual, y_predicted))\n",
    "\n",
    "# R cuadrado\n",
    "r_squared = 1 - (ssr / sst)\n",
    "\n",
    "# Calcular el Error Cuadrático Medio (ECM)\n",
    "ecm = ((sum((yi - y_pred)**2 for yi, y_pred in zip(y_actual, y_predicted)) / len(y_actual))** 0.5)\n",
    "\n",
    "print(f\"R cuadrado: {r_squared}\")\n",
    "print(f\"ECM: {ecm}\")"
   ]
  }
 ],
 "metadata": {
  "kernelspec": {
   "display_name": "ModelosSimulacion",
   "language": "python",
   "name": "python3"
  },
  "language_info": {
   "codemirror_mode": {
    "name": "ipython",
    "version": 3
   },
   "file_extension": ".py",
   "mimetype": "text/x-python",
   "name": "python",
   "nbconvert_exporter": "python",
   "pygments_lexer": "ipython3",
   "version": "3.13.5"
  }
 },
 "nbformat": 4,
 "nbformat_minor": 5
}
