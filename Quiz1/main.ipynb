{
 "cells": [
  {
   "cell_type": "markdown",
   "id": "6903a348",
   "metadata": {},
   "source": [
    "## Quiz 1: Modelos de Regresión"
   ]
  },
  {
   "cell_type": "markdown",
   "id": "1eaad3c8",
   "metadata": {},
   "source": [
    "### 1. Importación, limpieza y visualización de la matriz de datos"
   ]
  },
  {
   "cell_type": "code",
   "execution_count": 8,
   "id": "3d4bb3b5",
   "metadata": {},
   "outputs": [
    {
     "data": {
      "text/latex": [
       "$\\displaystyle \\left[\\begin{matrix}0.0 & 0.04\\\\1.0 & 0.06\\\\2.0 & 0.08\\\\3.0 & 0.13\\\\4.0 & 0.22\\\\5.0 & 0.5\\\\5.5 & 0.89\\\\5.8 & 1.39\\\\6.0 & 2.0\\\\8.0 & 2.0\\\\8.2 & 1.39\\\\8.5 & 0.89\\\\9.0 & 0.5\\\\10.0 & 0.22\\\\11.0 & 0.13\\\\13.0 & 0.06\\\\16.0 & 0.02\\\\17.0 & 0.02\\\\18.0 & 0.02\\\\19.0 & 0.01\\\\20.0 & 0.01\\end{matrix}\\right]$"
      ],
      "text/plain": [
       "Matrix([\n",
       "[ 0.0, 0.04],\n",
       "[ 1.0, 0.06],\n",
       "[ 2.0, 0.08],\n",
       "[ 3.0, 0.13],\n",
       "[ 4.0, 0.22],\n",
       "[ 5.0,  0.5],\n",
       "[ 5.5, 0.89],\n",
       "[ 5.8, 1.39],\n",
       "[ 6.0,  2.0],\n",
       "[ 8.0,  2.0],\n",
       "[ 8.2, 1.39],\n",
       "[ 8.5, 0.89],\n",
       "[ 9.0,  0.5],\n",
       "[10.0, 0.22],\n",
       "[11.0, 0.13],\n",
       "[13.0, 0.06],\n",
       "[16.0, 0.02],\n",
       "[17.0, 0.02],\n",
       "[18.0, 0.02],\n",
       "[19.0, 0.01],\n",
       "[20.0, 0.01]])"
      ]
     },
     "execution_count": 8,
     "metadata": {},
     "output_type": "execute_result"
    }
   ],
   "source": [
    "import csv\n",
    "import numpy as np\n",
    "import sympy as sp\n",
    "import matplotlib.pyplot as plt\n",
    "\n",
    "with open('data.csv', newline='') as csvfile:\n",
    "    reader = csv.reader(csvfile)\n",
    "    csv_data = [row for row in reader]\n",
    "numeric_data = []\n",
    "for row in csv_data[1:]:\n",
    "    clean_row = [cell.replace('\\u200b', '').strip() for cell in row]\n",
    "    try:\n",
    "        numeric_row = [float(cell) for cell in clean_row]\n",
    "        numeric_data.append(numeric_row)\n",
    "    except ValueError:\n",
    "        continue # Ignora las filas que no se pueden convertir\n",
    "\n",
    "data = sp.Matrix(numeric_data)\n",
    "data"
   ]
  },
  {
   "cell_type": "markdown",
   "id": "dd987b6a",
   "metadata": {},
   "source": [
    "### 2. Visualización Gráfica de los Datos"
   ]
  },
  {
   "cell_type": "code",
   "execution_count": 9,
   "id": "14f36561",
   "metadata": {},
   "outputs": [
    {
     "data": {
      "image/png": "[encoded data removed]",
      "text/plain": [
       "<Figure size 600x400 with 1 Axes>"
      ]
     },
     "metadata": {},
     "output_type": "display_data"
    }
   ],
   "source": [
    "# Visualización de los datos\n",
    "plt.figure(figsize=(6, 4))\n",
    "plt.scatter(data[:, 0], data[:, 1], label='Datos')\n",
    "plt.xlabel('x')\n",
    "plt.ylabel('y')\n",
    "plt.title('Visualización de los datos')\n",
    "plt.legend()\n",
    "plt.grid(True)\n",
    "plt.show()\n",
    "\n",
    "# Convertir la matriz de datos a lista de tuplas\n",
    "def prepare_data(raw_data):\n",
    "    if isinstance(raw_data, sp.Matrix):\n",
    "        return [(float(raw_data[i, 0]), float(raw_data[i, 1])) for i in range(raw_data.rows)]\n",
    "    elif isinstance(raw_data, (list, tuple)):\n",
    "        return [(float(xi), float(yi)) for xi, yi in raw_data]\n",
    "    else:\n",
    "        raise TypeError(\"Formato de datos no reconocido: use lista de tuplas o Sympy Matrix\")"
   ]
  },
  {
   "cell_type": "markdown",
   "id": "18bd4c08",
   "metadata": {},
   "source": [
    "### 3. Escoger la función para la tendencia de los datos"
   ]
  },
  {
   "cell_type": "markdown",
   "id": "08f71924",
   "metadata": {},
   "source": [
    "#### a. Polinomial de Grado n"
   ]
  },
  {
   "cell_type": "code",
   "execution_count": 19,
   "id": "bbb99e42",
   "metadata": {},
   "outputs": [
    {
     "name": "stdout",
     "output_type": "stream",
     "text": [
      "a0 = 1.28365443252375\n",
      "a1 = 0.995445538592548\n",
      "a2 = -0.173584379455974\n",
      "a3 = 0.0403629782819497\n",
      "\n",
      "Modelo ajustado:\n"
     ]
    },
    {
     "data": {
      "text/latex": [
       "$\\displaystyle y = 0.0403629782819497 x^{3} - 0.173584379455974 x^{2} + 0.995445538592548 x + 1.28365443252375$"
      ],
      "text/plain": [
       "Eq(y, 0.0403629782819497*x**3 - 0.173584379455974*x**2 + 0.995445538592548*x + 1.28365443252375)"
      ]
     },
     "metadata": {},
     "output_type": "display_data"
    }
   ],
   "source": [
    "# Definir el modelo polinomial de grado n\n",
    "n = 3\n",
    "a = sp.symbols(f'a0:{n+1}')    # (a0, a1, ..., an)\n",
    "x = sp.symbols('x')\n",
    "model_poly = sum(a[i] * x**i for i in range(n+1))\n",
    "\n",
    "data = prepare_data(data)\n",
    "\n",
    "# Construir matriz A y vector y\n",
    "def build_poly_system(data_list, degree):\n",
    "    A = sp.Matrix([[xi**j for j in range(degree+1)] for xi, yi in data_list]) # A tendrá columnas [1, x, x^2, ..., x^n]\n",
    "    y = sp.Matrix([yi for xi, yi in data_list])\n",
    "    return A, y\n",
    "\n",
    "A, y_vec = build_poly_system(data, n)\n",
    "\n",
    "# Resolver sistema normal: (A^T A) * a_vec = A^T * y\n",
    "AtA = A.T * A\n",
    "Aty = A.T * y_vec\n",
    "\n",
    "# Asegurarse de que AtA es invertible\n",
    "if AtA.det() == 0:\n",
    "    raise ValueError(\"La matriz A^T*A es singular para grado = {}.\".format(n))\n",
    "\n",
    "a_vec = AtA.inv() * Aty # vector [a0, a1, ..., an]\n",
    "\n",
    "# Mostrar resultados\n",
    "for i, coeff in enumerate(a_vec):\n",
    "    print(f\"a{i} = {sp.simplify(coeff)}\")\n",
    "\n",
    "adjusted_model = sp.simplify(model_poly.subs({a[i]: a_vec[i] for i in range(n+1)}))\n",
    "print(\"\\nModelo ajustado:\")\n",
    "y = sp.symbols('y')\n",
    "display(sp.Eq(y, adjusted_model))"
   ]
  },
  {
   "cell_type": "markdown",
   "id": "7cc57d7e",
   "metadata": {},
   "source": [
    "#### b. Exponencial"
   ]
  },
  {
   "cell_type": "markdown",
   "id": "2e1698f5",
   "metadata": {},
   "source": [
    "Clasica"
   ]
  },
  {
   "cell_type": "code",
   "execution_count": null,
   "id": "e2c7f764",
   "metadata": {},
   "outputs": [
    {
     "name": "stdout",
     "output_type": "stream",
     "text": [
      "\n",
      "Modelo exponencial clásico ajustado:\n"
     ]
    },
    {
     "data": {
      "text/latex": [
       "$\\displaystyle y = 1.47192832367699 e^{0.316542782131792 x}$"
      ],
      "text/plain": [
       "Eq(y, 1.47192832367699*exp(0.316542782131792*x))"
      ]
     },
     "metadata": {},
     "output_type": "display_data"
    }
   ],
   "source": [
    "# Modelo exponencial clásico: y = A * exp(B * x)\n",
    "B0, B1, x = sp.symbols('B0 B1 x')\n",
    "y = sp.symbols('y')\n",
    "\n",
    "data = prepare_data(data)\n",
    "data = [(xi, yi) for xi, yi in data if yi > 0]  # Evitar log(0)\n",
    "\n",
    "# ln(y) = B1 * x + B0\n",
    "data_log = [(xi, np.log(yi)) for xi, yi in data]\n",
    "A = sp.Matrix([[xi, 1] for xi, _ in data_log])\n",
    "b = sp.Matrix([yi for _, yi in data_log])\n",
    "\n",
    "# Resolver sistema normal\n",
    "AtA = A.T * A\n",
    "Aty = A.T * b\n",
    "B_vec = AtA.inv() * Aty\n",
    "\n",
    "B1_val = float(B_vec[0])\n",
    "B0_val = float(B_vec[1])\n",
    "A_val = np.exp(B0_val)\n",
    "\n",
    "adjusted_model = A_val * sp.exp(B1_val * x)\n",
    "print(\"\\nModelo exponencial clásico ajustado:\")\n",
    "display(sp.Eq(y, adjusted_model))"
   ]
  },
  {
   "cell_type": "markdown",
   "id": "52d898fc",
   "metadata": {},
   "source": [
    "Inversa Asintotica"
   ]
  },
  {
   "cell_type": "code",
   "execution_count": null,
   "id": "0e5c63c3",
   "metadata": {},
   "outputs": [
    {
     "name": "stdout",
     "output_type": "stream",
     "text": [
      "\n",
      "Modelo exponencial inverso ajustado:\n"
     ]
    },
    {
     "data": {
      "text/latex": [
       "$\\displaystyle y = 8 - 8 e^{- 0.330113983152154 x}$"
      ],
      "text/plain": [
       "Eq(y, 8 - 8*exp(-0.330113983152154*x))"
      ]
     },
     "metadata": {},
     "output_type": "display_data"
    }
   ],
   "source": [
    "# Modelo exponencial inverso: y = A * (1 - exp(-B * x))\n",
    "B1, x = sp.symbols('B1 x')\n",
    "y = sp.symbols('y')\n",
    "\n",
    "A_val = 8  # Valor asintótico\n",
    "\n",
    "data = prepare_data(data)\n",
    "filtered_data = [(xi, yi) for xi, yi in data if 0 < yi < A_val]\n",
    "\n",
    "# ln(A - y) = ln A - Bx\n",
    "data_log = [(xi, np.log(A_val - yi)) for xi, yi in filtered_data]\n",
    "A_mat = sp.Matrix([[xi, 1] for xi, _ in data_log])\n",
    "y_vec = sp.Matrix([yi for _, yi in data_log])\n",
    "\n",
    "# Resolver sistema normal\n",
    "AtA = A_mat.T * A_mat\n",
    "Aty = A_mat.T * y_vec\n",
    "B_vec = AtA.inv() * Aty\n",
    "\n",
    "B1_val = -float(B_vec[0])\n",
    "adjusted_model = A_val * (1 - sp.exp(-B1_val * x))\n",
    "print(\"\\nModelo exponencial inverso ajustado:\")\n",
    "display(sp.Eq(y, adjusted_model))"
   ]
  },
  {
   "cell_type": "markdown",
   "id": "3dad2ac0",
   "metadata": {},
   "source": [
    "#### c. Logarítmica"
   ]
  },
  {
   "cell_type": "code",
   "execution_count": null,
   "id": "943ac270",
   "metadata": {},
   "outputs": [
    {
     "name": "stdout",
     "output_type": "stream",
     "text": [
      "\n",
      "Modelo ajustado:\n"
     ]
    },
    {
     "data": {
      "text/latex": [
       "$\\displaystyle y = 1.48591820900231 \\log{\\left(x \\right)} + 4.40238895112307$"
      ],
      "text/plain": [
       "Eq(y, 1.48591820900231*log(x) + 4.40238895112307)"
      ]
     },
     "metadata": {},
     "output_type": "display_data"
    }
   ],
   "source": [
    "# Definir símbolos y modelo\n",
    "C0, C1, x = sp.symbols('C0 C1 x')\n",
    "model_logarithmic = C0 + C1*sp.log(x)\n",
    "\n",
    "# Preparar datos\n",
    "data = prepare_data(data)\n",
    "\n",
    "# Filtrar x > 0 para evitar log(0) o log(x < 0)\n",
    "data = [(xi, yi) for xi, yi in data if xi > 0]\n",
    "\n",
    "# Transformar x -> ln(x) y montar sistema lineal\n",
    "A = sp.Matrix([[np.log(xi), 1] for xi, yi in data]) #    modelo: y = C0 + C1 * ln(x)  ==>  columna [ln(x), 1]\n",
    "y_vec = sp.Matrix([yi for xi, yi in data])\n",
    "\n",
    "# Resolver las ecuaciones normales: (A^T A)·[C1, C0]^T = A^T·y\n",
    "AtA = A.T * A\n",
    "Aty = A.T * y_vec\n",
    "\n",
    "if AtA.det() == 0:\n",
    "    raise ValueError(\"A^T*A es singular en el modelo logarítmico.\")\n",
    "\n",
    "C_vec = AtA.inv() * Aty  # [C1, C0]\n",
    "C1_val = float(C_vec[0])\n",
    "C0_val = float(C_vec[1])\n",
    "\n",
    "# Modelo ajustado simbólico\n",
    "adjusted_model = model_logarithmic.subs({C0: C0_val, C1: C1_val})\n",
    "print(\"\\nModelo ajustado:\")\n",
    "y = sp.symbols('y')\n",
    "display(sp.Eq(y, sp.simplify(adjusted_model)))"
   ]
  },
  {
   "cell_type": "markdown",
   "id": "c8741a38",
   "metadata": {},
   "source": [
    "#### d. Potencial"
   ]
  },
  {
   "cell_type": "code",
   "execution_count": null,
   "id": "884081c3",
   "metadata": {},
   "outputs": [
    {
     "name": "stdout",
     "output_type": "stream",
     "text": [
      "P0 = 1.000607, P1 = 1.050793\n",
      "\n",
      "Modelo ajustado:\n"
     ]
    },
    {
     "data": {
      "text/latex": [
       "$\\displaystyle y = 1.00060724534419 x^{1.05079269452626}$"
      ],
      "text/plain": [
       "Eq(y, 1.00060724534419*x**1.05079269452626)"
      ]
     },
     "metadata": {},
     "output_type": "display_data"
    }
   ],
   "source": [
    "# Definir símbolos y modelo (transformado)\n",
    "P0, P1, x = sp.symbols('P0 P1 x')\n",
    "# Transformación: ln y = ln P0 + P1 * ln x\n",
    "B0, B1 = sp.symbols('B0 B1')\n",
    "model_log = B0 + B1*sp.log(x)\n",
    "\n",
    "# Preparar datos\n",
    "data = prepare_data(data)\n",
    "\n",
    "# Transformar datos: (u = ln x, v = ln y)\n",
    "data_log = [(np.log(xi), np.log(yi)) for xi, yi in data]\n",
    "A = sp.Matrix([[ui, 1] for ui, vi in data_log])\n",
    "y_vec = sp.Matrix([vi for ui, vi in data_log])\n",
    "\n",
    "# Resolver sistema normal: (A^T A)·[B1, B0]^T = A^T·v\n",
    "AtA = A.T * A\n",
    "Aty = A.T * y_vec\n",
    "\n",
    "if AtA.det() == 0:\n",
    "    raise ValueError(\"A^T*A es singular en el modelo potencial.\")\n",
    "\n",
    "B_vec = AtA.inv() * Aty\n",
    "B1_val = float(B_vec[0])   # P1\n",
    "B0_val = float(B_vec[1])   # ln P0\n",
    "P1_val = B1_val\n",
    "P0_val = np.exp(B0_val)\n",
    "\n",
    "print(f\"P0 = {P0_val:.6f}, P1 = {P1_val:.6f}\")\n",
    "\n",
    "# Modelo ajustado simbólico\n",
    "adjusted_model = P0_val * x**P1_val\n",
    "print(\"\\nModelo ajustado:\")\n",
    "y = sp.symbols('y')\n",
    "display(sp.Eq(y, sp.simplify(adjusted_model)))"
   ]
  },
  {
   "cell_type": "markdown",
   "id": "be6a63c0",
   "metadata": {},
   "source": [
    "#### e. Trigonométrica"
   ]
  },
  {
   "cell_type": "code",
   "execution_count": null,
   "id": "55926b76",
   "metadata": {},
   "outputs": [
    {
     "name": "stdout",
     "output_type": "stream",
     "text": [
      "\n",
      "Modelo ajustado:\n"
     ]
    },
    {
     "data": {
      "text/latex": [
       "$\\displaystyle y = - 4.59674612024715 \\sin{\\left(0.897597901025655 x - 1.36526824089392 \\right)}$"
      ],
      "text/plain": [
       "Eq(y, -4.59674612024715*sin(0.897597901025655*x - 1.36526824089392))"
      ]
     },
     "metadata": {},
     "output_type": "display_data"
    }
   ],
   "source": [
    "# Definir símbolos\n",
    "A, C, x = sp.symbols('A C x')\n",
    "\n",
    "# Asignar B a partir del período estimado\n",
    "x_max1 = 3\n",
    "x_max2 = 10\n",
    "T = abs(x_max2 - x_max1)\n",
    "B_val = 2 * np.pi / T\n",
    "\n",
    "# Modelo: y = A * sin(Bx + C), con B conocido\n",
    "model = A * sp.sin(B_val * x + C)\n",
    "\n",
    "# Preparar datos\n",
    "data = prepare_data(data)\n",
    "\n",
    "if len(data) < 2:\n",
    "    raise ValueError(\"Se necesitan al menos 2 puntos para ajustar A y C.\")\n",
    "\n",
    "# Tomar 2 puntos y formar ecuaciones\n",
    "(x1, y1), (x2, y2) = data[:2]\n",
    "eq1 = sp.Eq(y1, A * sp.sin(B_val * x1 + C))\n",
    "eq2 = sp.Eq(y2, A * sp.sin(B_val * x2 + C))\n",
    "\n",
    "# Resolver sistema para A y C\n",
    "sols = sp.solve([eq1, eq2], (A, C), dict=True)\n",
    "\n",
    "if not sols:\n",
    "    raise ValueError(\"No se pudo resolver el sistema trigonométrico.\")\n",
    "\n",
    "sol = sols[0]\n",
    "A_val = sol[A]\n",
    "C_val = sol[C]\n",
    "\n",
    "# Sustituir en el modelo ajustado\n",
    "adjusted_model = model.subs({A: A_val, C: C_val})\n",
    "print(\"\\nModelo ajustado:\")\n",
    "y = sp.symbols('y')\n",
    "display(sp.Eq(y, adjusted_model))"
   ]
  },
  {
   "cell_type": "markdown",
   "id": "fb00724a",
   "metadata": {},
   "source": [
    "#### f. Resorte Amortiguado"
   ]
  },
  {
   "cell_type": "code",
   "execution_count": null,
   "id": "5cf01a51",
   "metadata": {},
   "outputs": [
    {
     "data": {
      "text/latex": [
       "$\\displaystyle y = 4.51885347629603 e^{- 0.301113947783649 x} \\cos{\\left(0.897597901025655 x \\right)}$"
      ],
      "text/plain": [
       "Eq(y, 4.51885347629603*exp(-0.301113947783649*x)*cos(0.897597901025655*x))"
      ]
     },
     "metadata": {},
     "output_type": "display_data"
    }
   ],
   "source": [
    "# Definir símbolos\n",
    "B0, B1, x = sp.symbols('B0 B1 x')  # ln(A) y C\n",
    "A_sym, C_sym = sp.symbols('A C')   # para reemplazo final\n",
    "\n",
    "# Estimar frecuencia angular w a partir de dos máximos o mínimos conocidos\n",
    "x_max1 = 3\n",
    "x_max2 = 10\n",
    "T = abs(x_max2 - x_max1)\n",
    "w = 2 * np.pi / T  # omega - frecuencia angular\n",
    "\n",
    "# Preparar los datos\n",
    "data = prepare_data(data)\n",
    "\n",
    "# Transformación logarítmica del modelo: ln(y / cos(wx)) = B0 + B1 * x\n",
    "data_transformed = []\n",
    "for xi, yi in data:\n",
    "    cos_val = np.cos(w * xi)\n",
    "    if cos_val == 0 or yi / cos_val <= 0:\n",
    "        continue # Evitar log de 0 o número negativo\n",
    "    new_y = np.log(yi / cos_val)\n",
    "    data_transformed.append((xi, new_y))\n",
    "\n",
    "if len(data_transformed) < 2:\n",
    "    raise ValueError(\"No hay suficientes datos válidos después de la transformación.\")\n",
    "\n",
    "# Matriz A y vector y para sistema lineal\n",
    "A_mat = sp.Matrix([[xi, 1] for xi, _ in data_transformed])\n",
    "y_vec = sp.Matrix([yi for _, yi in data_transformed])\n",
    "\n",
    "# Resolver sistema normal: (A^T A) z = A^T y\n",
    "AtA = A_mat.T * A_mat\n",
    "Aty = A_mat.T * y_vec\n",
    "sol_vec = AtA.inv() * Aty\n",
    "\n",
    "B1_val = float(sol_vec[0])  # C\n",
    "B0_val = float(sol_vec[1])  # ln(A)\n",
    "A_val = np.exp(B0_val)\n",
    "C_val = B1_val\n",
    "\n",
    "# Modelo ajustado: y = A * exp(Cx) * cos(w x)\n",
    "adjusted_model = A_val * sp.exp(C_val * x) * sp.cos(w * x)\n",
    "\n",
    "# Mostrar el modelo\n",
    "y = sp.symbols('y')\n",
    "display(sp.Eq(y, adjusted_model))"
   ]
  },
  {
   "cell_type": "markdown",
   "id": "73b9abd9",
   "metadata": {},
   "source": [
    "#### g. Gausiana"
   ]
  },
  {
   "cell_type": "code",
   "execution_count": 21,
   "id": "7ee39c32",
   "metadata": {},
   "outputs": [
    {
     "name": "stdout",
     "output_type": "stream",
     "text": [
      "\n",
      "Modelo ajustado:\n"
     ]
    },
    {
     "data": {
      "text/latex": [
       "$\\displaystyle y = 0.160386678896932 e^{- 0.0104051395541618 \\left(x - 5\\right)^{2}}$"
      ],
      "text/plain": [
       "Eq(y, 0.160386678896932*exp(-0.0104051395541618*(x - 5)**2))"
      ]
     },
     "metadata": {},
     "output_type": "display_data"
    },
    {
     "data": {
      "text/latex": [
       "$\\displaystyle \\left[\\begin{matrix}625.0 & 1\\\\622.5025 & 1\\\\620.01 & 1\\\\617.5225 & 1\\\\615.04 & 1\\\\612.5625 & 1\\\\610.09 & 1\\\\607.6225 & 1\\\\605.16 & 1\\\\602.7025 & 1\\\\600.25 & 1\\\\597.8025 & 1\\\\595.36 & 1\\\\592.9225 & 1\\\\590.49 & 1\\\\588.0625 & 1\\\\585.64 & 1\\\\583.2225 & 1\\\\580.81 & 1\\\\578.4025 & 1\\\\576.0 & 1\\\\573.6025 & 1\\\\571.21 & 1\\\\568.8225 & 1\\\\566.44 & 1\\\\564.0625 & 1\\\\561.69 & 1\\\\559.3225 & 1\\\\556.96 & 1\\\\554.6025 & 1\\\\552.25 & 1\\\\549.9025 & 1\\\\547.56 & 1\\\\545.2225 & 1\\\\542.89 & 1\\\\540.5625 & 1\\\\538.24 & 1\\\\535.9225 & 1\\\\533.61 & 1\\\\531.3025 & 1\\\\529.0 & 1\\\\526.7025 & 1\\\\524.41 & 1\\\\522.1225 & 1\\\\519.84 & 1\\\\517.5625 & 1\\\\515.29 & 1\\\\513.0225 & 1\\\\510.76 & 1\\\\508.5025 & 1\\\\506.25 & 1\\\\504.0025 & 1\\\\501.76 & 1\\\\499.5225 & 1\\\\497.29 & 1\\\\364.81 & 1\\\\362.9025 & 1\\\\361.0 & 1\\\\359.1025 & 1\\\\357.21 & 1\\\\355.3225 & 1\\\\353.44 & 1\\\\351.5625 & 1\\\\349.69 & 1\\\\347.8225 & 1\\\\345.96 & 1\\\\344.1025 & 1\\\\342.25 & 1\\\\340.4025 & 1\\\\338.56 & 1\\\\336.7225 & 1\\\\334.89 & 1\\\\333.0625 & 1\\\\331.24 & 1\\\\329.4225 & 1\\\\327.61 & 1\\\\325.8025 & 1\\\\324.0 & 1\\\\322.2025 & 1\\\\320.41 & 1\\\\318.6225 & 1\\\\316.84 & 1\\\\315.0625 & 1\\\\313.29 & 1\\\\311.5225 & 1\\\\309.76 & 1\\\\308.0025 & 1\\\\306.25 & 1\\\\304.5025 & 1\\\\302.76 & 1\\\\301.0225 & 1\\\\299.29 & 1\\\\297.5625 & 1\\\\295.84 & 1\\\\294.1225 & 1\\\\292.41 & 1\\\\290.7025 & 1\\\\289.0 & 1\\\\287.3025 & 1\\\\285.61 & 1\\\\283.9225 & 1\\\\282.24 & 1\\\\280.5625 & 1\\\\278.89 & 1\\\\277.2225 & 1\\\\275.56 & 1\\\\273.9025 & 1\\\\272.25 & 1\\\\270.6025 & 1\\\\268.96 & 1\\\\267.3225 & 1\\\\265.69 & 1\\\\264.0625 & 1\\\\262.44 & 1\\\\260.8225 & 1\\\\259.21 & 1\\\\257.6025 & 1\\\\256.0 & 1\\\\165.1225 & 1\\\\163.84 & 1\\\\162.5625 & 1\\\\161.29 & 1\\\\160.0225 & 1\\\\158.76 & 1\\\\157.5025 & 1\\\\156.25 & 1\\\\155.0025 & 1\\\\153.76 & 1\\\\152.5225 & 1\\\\151.29 & 1\\\\150.0625 & 1\\\\148.84 & 1\\\\147.6225 & 1\\\\146.41 & 1\\\\145.2025 & 1\\\\144.0 & 1\\\\142.8025 & 1\\\\141.61 & 1\\\\140.4225 & 1\\\\139.24 & 1\\\\138.0625 & 1\\\\136.89 & 1\\\\135.7225 & 1\\\\134.56 & 1\\\\133.4025 & 1\\\\132.25 & 1\\\\131.1025 & 1\\\\129.96 & 1\\\\128.8225 & 1\\\\127.69 & 1\\\\126.5625 & 1\\\\125.44 & 1\\\\124.3225 & 1\\\\123.21 & 1\\\\122.1025 & 1\\\\121.0 & 1\\\\119.9025 & 1\\\\118.81 & 1\\\\117.7225 & 1\\\\116.64 & 1\\\\115.5625 & 1\\\\114.49 & 1\\\\113.4225 & 1\\\\112.36 & 1\\\\111.3025 & 1\\\\110.25 & 1\\\\109.2025 & 1\\\\108.16 & 1\\\\107.1225 & 1\\\\106.09 & 1\\\\105.0625 & 1\\\\104.04 & 1\\\\103.0225 & 1\\\\102.01 & 1\\\\101.0025 & 1\\\\100.0 & 1\\\\99.0025 & 1\\\\98.01 & 1\\\\97.0225 & 1\\\\96.04 & 1\\\\95.0625 & 1\\\\42.9025 & 1\\\\42.25 & 1\\\\41.6025 & 1\\\\40.96 & 1\\\\40.3225 & 1\\\\39.69 & 1\\\\39.0625 & 1\\\\38.44 & 1\\\\37.8225 & 1\\\\37.21 & 1\\\\36.6025 & 1\\\\36.0 & 1\\\\35.4025 & 1\\\\34.81 & 1\\\\34.2225 & 1\\\\33.64 & 1\\\\33.0625 & 1\\\\32.49 & 1\\\\31.9225 & 1\\\\31.36 & 1\\\\30.8025 & 1\\\\30.25 & 1\\\\29.7025 & 1\\\\29.16 & 1\\\\28.6225 & 1\\\\28.09 & 1\\\\27.5625 & 1\\\\27.04 & 1\\\\26.5225 & 1\\\\26.01 & 1\\\\25.5025 & 1\\\\25.0 & 1\\\\24.5025 & 1\\\\24.01 & 1\\\\23.5225 & 1\\\\23.04 & 1\\\\22.5625 & 1\\\\22.09 & 1\\\\21.6225 & 1\\\\21.16 & 1\\\\20.7025 & 1\\\\20.25 & 1\\\\19.8025 & 1\\\\19.36 & 1\\\\18.9225 & 1\\\\18.49 & 1\\\\18.0625 & 1\\\\17.64 & 1\\\\17.2225 & 1\\\\16.81 & 1\\\\16.4025 & 1\\\\16.0 & 1\\\\15.6025 & 1\\\\15.21 & 1\\\\14.8225 & 1\\\\14.44 & 1\\\\14.0625 & 1\\\\13.69 & 1\\\\13.3225 & 1\\\\12.96 & 1\\\\12.6025 & 1\\\\12.25 & 1\\\\11.9025 & 1\\\\0.0625 & 1\\\\0.0399999999999997 & 1\\\\0.0224999999999996 & 1\\\\0.00999999999999957 & 1\\\\0.00249999999999972 & 1\\\\0.0 & 1\\\\0.00250000000000007 & 1\\\\0.0100000000000003 & 1\\\\0.0225000000000006 & 1\\\\0.0400000000000011 & 1\\\\0.0625 & 1\\\\0.0900000000000004 & 1\\\\0.122500000000001 & 1\\\\0.160000000000002 & 1\\\\0.202500000000003 & 1\\\\0.25 & 1\\\\0.302500000000001 & 1\\\\0.360000000000002 & 1\\\\0.422500000000003 & 1\\\\0.490000000000004 & 1\\\\0.5625 & 1\\\\0.640000000000001 & 1\\\\0.722500000000002 & 1\\\\0.810000000000004 & 1\\\\0.902500000000005 & 1\\\\1.0 & 1\\\\1.1025 & 1\\\\1.21 & 1\\\\1.3225 & 1\\\\1.44000000000001 & 1\\\\1.5625 & 1\\\\1.69 & 1\\\\1.8225 & 1\\\\1.96000000000001 & 1\\\\2.10250000000001 & 1\\\\2.25 & 1\\\\2.4025 & 1\\\\2.56 & 1\\\\2.72250000000001 & 1\\\\2.89000000000001 & 1\\\\3.0625 & 1\\\\3.24 & 1\\\\3.42250000000001 & 1\\\\3.61000000000001 & 1\\\\3.80250000000001 & 1\\\\4.0 & 1\\\\4.2025 & 1\\\\4.41000000000001 & 1\\\\4.62250000000001 & 1\\\\4.84000000000001 & 1\\\\5.0625 & 1\\\\5.29 & 1\\\\5.52250000000001 & 1\\\\5.76000000000001 & 1\\\\6.00250000000001 & 1\\\\6.25 & 1\\\\6.5025 & 1\\\\6.76000000000001 & 1\\\\7.02250000000001 & 1\\\\7.29000000000002 & 1\\\\7.5625 & 1\\\\7.84 & 1\\\\8.12250000000001 & 1\\\\36.0 & 1\\\\36.6025 & 1\\\\37.21 & 1\\\\37.8225 & 1\\\\38.44 & 1\\\\39.0625 & 1\\\\39.69 & 1\\\\40.3225 & 1\\\\40.96 & 1\\\\41.6025 & 1\\\\42.25 & 1\\\\42.9025 & 1\\\\43.56 & 1\\\\44.2225 & 1\\\\44.89 & 1\\\\45.5625 & 1\\\\46.24 & 1\\\\46.9225 & 1\\\\47.61 & 1\\\\48.3025 & 1\\\\49.0 & 1\\\\49.7025000000001 & 1\\\\50.41 & 1\\\\51.1225 & 1\\\\51.84 & 1\\\\52.5625 & 1\\\\53.2900000000001 & 1\\\\54.0225 & 1\\\\54.76 & 1\\\\55.5025 & 1\\\\56.25 & 1\\\\57.0025000000001 & 1\\\\57.76 & 1\\\\58.5225 & 1\\\\59.29 & 1\\\\60.0625 & 1\\\\60.8400000000001 & 1\\\\61.6225 & 1\\\\62.41 & 1\\\\63.2025 & 1\\\\64.0 & 1\\\\64.8025000000001 & 1\\\\65.61 & 1\\\\66.4225 & 1\\\\67.2400000000001 & 1\\\\68.0625 & 1\\\\68.8900000000001 & 1\\\\69.7225 & 1\\\\70.56 & 1\\\\71.4025 & 1\\\\72.25 & 1\\\\73.1025000000001 & 1\\\\73.96 & 1\\\\74.8225 & 1\\\\75.6900000000001 & 1\\\\76.5625 & 1\\\\77.4400000000001 & 1\\\\78.3225 & 1\\\\79.21 & 1\\\\80.1025 & 1\\\\81.0 & 1\\\\81.9025000000001 & 1\\\\82.81 & 1\\\\151.29 & 1\\\\152.5225 & 1\\\\153.76 & 1\\\\155.0025 & 1\\\\156.25 & 1\\\\157.5025 & 1\\\\158.76 & 1\\\\160.0225 & 1\\\\161.29 & 1\\\\162.5625 & 1\\\\163.84 & 1\\\\165.1225 & 1\\\\166.41 & 1\\\\167.7025 & 1\\\\169.0 & 1\\\\170.3025 & 1\\\\171.61 & 1\\\\172.9225 & 1\\\\174.24 & 1\\\\175.5625 & 1\\\\176.89 & 1\\\\178.2225 & 1\\\\179.56 & 1\\\\180.9025 & 1\\\\182.25 & 1\\\\183.6025 & 1\\\\184.96 & 1\\\\186.3225 & 1\\\\187.69 & 1\\\\189.0625 & 1\\\\190.44 & 1\\\\191.8225 & 1\\\\193.21 & 1\\\\194.6025 & 1\\\\196.0 & 1\\\\197.4025 & 1\\\\198.81 & 1\\\\200.2225 & 1\\\\201.64 & 1\\\\203.0625 & 1\\\\204.49 & 1\\\\205.9225 & 1\\\\207.36 & 1\\\\208.8025 & 1\\\\210.25 & 1\\\\211.7025 & 1\\\\213.16 & 1\\\\214.6225 & 1\\\\216.09 & 1\\\\217.5625 & 1\\\\219.04 & 1\\\\220.5225 & 1\\\\222.01 & 1\\\\223.5025 & 1\\\\225.0 & 1\\end{matrix}\\right]$"
      ],
      "text/plain": [
       "Matrix([\n",
       "[              625.0, 1],\n",
       "[           622.5025, 1],\n",
       "[             620.01, 1],\n",
       "[           617.5225, 1],\n",
       "[             615.04, 1],\n",
       "[           612.5625, 1],\n",
       "[             610.09, 1],\n",
       "[           607.6225, 1],\n",
       "[             605.16, 1],\n",
       "[           602.7025, 1],\n",
       "[             600.25, 1],\n",
       "[           597.8025, 1],\n",
       "[             595.36, 1],\n",
       "[           592.9225, 1],\n",
       "[             590.49, 1],\n",
       "[           588.0625, 1],\n",
       "[             585.64, 1],\n",
       "[           583.2225, 1],\n",
       "[             580.81, 1],\n",
       "[           578.4025, 1],\n",
       "[              576.0, 1],\n",
       "[           573.6025, 1],\n",
       "[             571.21, 1],\n",
       "[           568.8225, 1],\n",
       "[             566.44, 1],\n",
       "[           564.0625, 1],\n",
       "[             561.69, 1],\n",
       "[           559.3225, 1],\n",
       "[             556.96, 1],\n",
       "[           554.6025, 1],\n",
       "[             552.25, 1],\n",
       "[           549.9025, 1],\n",
       "[             547.56, 1],\n",
       "[           545.2225, 1],\n",
       "[             542.89, 1],\n",
       "[           540.5625, 1],\n",
       "[             538.24, 1],\n",
       "[           535.9225, 1],\n",
       "[             533.61, 1],\n",
       "[           531.3025, 1],\n",
       "[              529.0, 1],\n",
       "[           526.7025, 1],\n",
       "[             524.41, 1],\n",
       "[           522.1225, 1],\n",
       "[             519.84, 1],\n",
       "[           517.5625, 1],\n",
       "[             515.29, 1],\n",
       "[           513.0225, 1],\n",
       "[             510.76, 1],\n",
       "[           508.5025, 1],\n",
       "[             506.25, 1],\n",
       "[           504.0025, 1],\n",
       "[             501.76, 1],\n",
       "[           499.5225, 1],\n",
       "[             497.29, 1],\n",
       "[             364.81, 1],\n",
       "[           362.9025, 1],\n",
       "[              361.0, 1],\n",
       "[           359.1025, 1],\n",
       "[             357.21, 1],\n",
       "[           355.3225, 1],\n",
       "[             353.44, 1],\n",
       "[           351.5625, 1],\n",
       "[             349.69, 1],\n",
       "[           347.8225, 1],\n",
       "[             345.96, 1],\n",
       "[           344.1025, 1],\n",
       "[             342.25, 1],\n",
       "[           340.4025, 1],\n",
       "[             338.56, 1],\n",
       "[           336.7225, 1],\n",
       "[             334.89, 1],\n",
       "[           333.0625, 1],\n",
       "[             331.24, 1],\n",
       "[           329.4225, 1],\n",
       "[             327.61, 1],\n",
       "[           325.8025, 1],\n",
       "[              324.0, 1],\n",
       "[           322.2025, 1],\n",
       "[             320.41, 1],\n",
       "[           318.6225, 1],\n",
       "[             316.84, 1],\n",
       "[           315.0625, 1],\n",
       "[             313.29, 1],\n",
       "[           311.5225, 1],\n",
       "[             309.76, 1],\n",
       "[           308.0025, 1],\n",
       "[             306.25, 1],\n",
       "[           304.5025, 1],\n",
       "[             302.76, 1],\n",
       "[           301.0225, 1],\n",
       "[             299.29, 1],\n",
       "[           297.5625, 1],\n",
       "[             295.84, 1],\n",
       "[           294.1225, 1],\n",
       "[             292.41, 1],\n",
       "[           290.7025, 1],\n",
       "[              289.0, 1],\n",
       "[           287.3025, 1],\n",
       "[             285.61, 1],\n",
       "[           283.9225, 1],\n",
       "[             282.24, 1],\n",
       "[           280.5625, 1],\n",
       "[             278.89, 1],\n",
       "[           277.2225, 1],\n",
       "[             275.56, 1],\n",
       "[           273.9025, 1],\n",
       "[             272.25, 1],\n",
       "[           270.6025, 1],\n",
       "[             268.96, 1],\n",
       "[           267.3225, 1],\n",
       "[             265.69, 1],\n",
       "[           264.0625, 1],\n",
       "[             262.44, 1],\n",
       "[           260.8225, 1],\n",
       "[             259.21, 1],\n",
       "[           257.6025, 1],\n",
       "[              256.0, 1],\n",
       "[           165.1225, 1],\n",
       "[             163.84, 1],\n",
       "[           162.5625, 1],\n",
       "[             161.29, 1],\n",
       "[           160.0225, 1],\n",
       "[             158.76, 1],\n",
       "[           157.5025, 1],\n",
       "[             156.25, 1],\n",
       "[           155.0025, 1],\n",
       "[             153.76, 1],\n",
       "[           152.5225, 1],\n",
       "[             151.29, 1],\n",
       "[           150.0625, 1],\n",
       "[             148.84, 1],\n",
       "[           147.6225, 1],\n",
       "[             146.41, 1],\n",
       "[           145.2025, 1],\n",
       "[              144.0, 1],\n",
       "[           142.8025, 1],\n",
       "[             141.61, 1],\n",
       "[           140.4225, 1],\n",
       "[             139.24, 1],\n",
       "[           138.0625, 1],\n",
       "[             136.89, 1],\n",
       "[           135.7225, 1],\n",
       "[             134.56, 1],\n",
       "[           133.4025, 1],\n",
       "[             132.25, 1],\n",
       "[           131.1025, 1],\n",
       "[             129.96, 1],\n",
       "[           128.8225, 1],\n",
       "[             127.69, 1],\n",
       "[           126.5625, 1],\n",
       "[             125.44, 1],\n",
       "[           124.3225, 1],\n",
       "[             123.21, 1],\n",
       "[           122.1025, 1],\n",
       "[              121.0, 1],\n",
       "[           119.9025, 1],\n",
       "[             118.81, 1],\n",
       "[           117.7225, 1],\n",
       "[             116.64, 1],\n",
       "[           115.5625, 1],\n",
       "[             114.49, 1],\n",
       "[           113.4225, 1],\n",
       "[             112.36, 1],\n",
       "[           111.3025, 1],\n",
       "[             110.25, 1],\n",
       "[           109.2025, 1],\n",
       "[             108.16, 1],\n",
       "[           107.1225, 1],\n",
       "[             106.09, 1],\n",
       "[           105.0625, 1],\n",
       "[             104.04, 1],\n",
       "[           103.0225, 1],\n",
       "[             102.01, 1],\n",
       "[           101.0025, 1],\n",
       "[              100.0, 1],\n",
       "[            99.0025, 1],\n",
       "[              98.01, 1],\n",
       "[            97.0225, 1],\n",
       "[              96.04, 1],\n",
       "[            95.0625, 1],\n",
       "[            42.9025, 1],\n",
       "[              42.25, 1],\n",
       "[            41.6025, 1],\n",
       "[              40.96, 1],\n",
       "[            40.3225, 1],\n",
       "[              39.69, 1],\n",
       "[            39.0625, 1],\n",
       "[              38.44, 1],\n",
       "[            37.8225, 1],\n",
       "[              37.21, 1],\n",
       "[            36.6025, 1],\n",
       "[               36.0, 1],\n",
       "[            35.4025, 1],\n",
       "[              34.81, 1],\n",
       "[            34.2225, 1],\n",
       "[              33.64, 1],\n",
       "[            33.0625, 1],\n",
       "[              32.49, 1],\n",
       "[            31.9225, 1],\n",
       "[              31.36, 1],\n",
       "[            30.8025, 1],\n",
       "[              30.25, 1],\n",
       "[            29.7025, 1],\n",
       "[              29.16, 1],\n",
       "[            28.6225, 1],\n",
       "[              28.09, 1],\n",
       "[            27.5625, 1],\n",
       "[              27.04, 1],\n",
       "[            26.5225, 1],\n",
       "[              26.01, 1],\n",
       "[            25.5025, 1],\n",
       "[               25.0, 1],\n",
       "[            24.5025, 1],\n",
       "[              24.01, 1],\n",
       "[            23.5225, 1],\n",
       "[              23.04, 1],\n",
       "[            22.5625, 1],\n",
       "[              22.09, 1],\n",
       "[            21.6225, 1],\n",
       "[              21.16, 1],\n",
       "[            20.7025, 1],\n",
       "[              20.25, 1],\n",
       "[            19.8025, 1],\n",
       "[              19.36, 1],\n",
       "[            18.9225, 1],\n",
       "[              18.49, 1],\n",
       "[            18.0625, 1],\n",
       "[              17.64, 1],\n",
       "[            17.2225, 1],\n",
       "[              16.81, 1],\n",
       "[            16.4025, 1],\n",
       "[               16.0, 1],\n",
       "[            15.6025, 1],\n",
       "[              15.21, 1],\n",
       "[            14.8225, 1],\n",
       "[              14.44, 1],\n",
       "[            14.0625, 1],\n",
       "[              13.69, 1],\n",
       "[            13.3225, 1],\n",
       "[              12.96, 1],\n",
       "[            12.6025, 1],\n",
       "[              12.25, 1],\n",
       "[            11.9025, 1],\n",
       "[             0.0625, 1],\n",
       "[ 0.0399999999999997, 1],\n",
       "[ 0.0224999999999996, 1],\n",
       "[0.00999999999999957, 1],\n",
       "[0.00249999999999972, 1],\n",
       "[                0.0, 1],\n",
       "[0.00250000000000007, 1],\n",
       "[ 0.0100000000000003, 1],\n",
       "[ 0.0225000000000006, 1],\n",
       "[ 0.0400000000000011, 1],\n",
       "[             0.0625, 1],\n",
       "[ 0.0900000000000004, 1],\n",
       "[  0.122500000000001, 1],\n",
       "[  0.160000000000002, 1],\n",
       "[  0.202500000000003, 1],\n",
       "[               0.25, 1],\n",
       "[  0.302500000000001, 1],\n",
       "[  0.360000000000002, 1],\n",
       "[  0.422500000000003, 1],\n",
       "[  0.490000000000004, 1],\n",
       "[             0.5625, 1],\n",
       "[  0.640000000000001, 1],\n",
       "[  0.722500000000002, 1],\n",
       "[  0.810000000000004, 1],\n",
       "[  0.902500000000005, 1],\n",
       "[                1.0, 1],\n",
       "[             1.1025, 1],\n",
       "[               1.21, 1],\n",
       "[             1.3225, 1],\n",
       "[   1.44000000000001, 1],\n",
       "[             1.5625, 1],\n",
       "[               1.69, 1],\n",
       "[             1.8225, 1],\n",
       "[   1.96000000000001, 1],\n",
       "[   2.10250000000001, 1],\n",
       "[               2.25, 1],\n",
       "[             2.4025, 1],\n",
       "[               2.56, 1],\n",
       "[   2.72250000000001, 1],\n",
       "[   2.89000000000001, 1],\n",
       "[             3.0625, 1],\n",
       "[               3.24, 1],\n",
       "[   3.42250000000001, 1],\n",
       "[   3.61000000000001, 1],\n",
       "[   3.80250000000001, 1],\n",
       "[                4.0, 1],\n",
       "[             4.2025, 1],\n",
       "[   4.41000000000001, 1],\n",
       "[   4.62250000000001, 1],\n",
       "[   4.84000000000001, 1],\n",
       "[             5.0625, 1],\n",
       "[               5.29, 1],\n",
       "[   5.52250000000001, 1],\n",
       "[   5.76000000000001, 1],\n",
       "[   6.00250000000001, 1],\n",
       "[               6.25, 1],\n",
       "[             6.5025, 1],\n",
       "[   6.76000000000001, 1],\n",
       "[   7.02250000000001, 1],\n",
       "[   7.29000000000002, 1],\n",
       "[             7.5625, 1],\n",
       "[               7.84, 1],\n",
       "[   8.12250000000001, 1],\n",
       "[               36.0, 1],\n",
       "[            36.6025, 1],\n",
       "[              37.21, 1],\n",
       "[            37.8225, 1],\n",
       "[              38.44, 1],\n",
       "[            39.0625, 1],\n",
       "[              39.69, 1],\n",
       "[            40.3225, 1],\n",
       "[              40.96, 1],\n",
       "[            41.6025, 1],\n",
       "[              42.25, 1],\n",
       "[            42.9025, 1],\n",
       "[              43.56, 1],\n",
       "[            44.2225, 1],\n",
       "[              44.89, 1],\n",
       "[            45.5625, 1],\n",
       "[              46.24, 1],\n",
       "[            46.9225, 1],\n",
       "[              47.61, 1],\n",
       "[            48.3025, 1],\n",
       "[               49.0, 1],\n",
       "[   49.7025000000001, 1],\n",
       "[              50.41, 1],\n",
       "[            51.1225, 1],\n",
       "[              51.84, 1],\n",
       "[            52.5625, 1],\n",
       "[   53.2900000000001, 1],\n",
       "[            54.0225, 1],\n",
       "[              54.76, 1],\n",
       "[            55.5025, 1],\n",
       "[              56.25, 1],\n",
       "[   57.0025000000001, 1],\n",
       "[              57.76, 1],\n",
       "[            58.5225, 1],\n",
       "[              59.29, 1],\n",
       "[            60.0625, 1],\n",
       "[   60.8400000000001, 1],\n",
       "[            61.6225, 1],\n",
       "[              62.41, 1],\n",
       "[            63.2025, 1],\n",
       "[               64.0, 1],\n",
       "[   64.8025000000001, 1],\n",
       "[              65.61, 1],\n",
       "[            66.4225, 1],\n",
       "[   67.2400000000001, 1],\n",
       "[            68.0625, 1],\n",
       "[   68.8900000000001, 1],\n",
       "[            69.7225, 1],\n",
       "[              70.56, 1],\n",
       "[            71.4025, 1],\n",
       "[              72.25, 1],\n",
       "[   73.1025000000001, 1],\n",
       "[              73.96, 1],\n",
       "[            74.8225, 1],\n",
       "[   75.6900000000001, 1],\n",
       "[            76.5625, 1],\n",
       "[   77.4400000000001, 1],\n",
       "[            78.3225, 1],\n",
       "[              79.21, 1],\n",
       "[            80.1025, 1],\n",
       "[               81.0, 1],\n",
       "[   81.9025000000001, 1],\n",
       "[              82.81, 1],\n",
       "[             151.29, 1],\n",
       "[           152.5225, 1],\n",
       "[             153.76, 1],\n",
       "[           155.0025, 1],\n",
       "[             156.25, 1],\n",
       "[           157.5025, 1],\n",
       "[             158.76, 1],\n",
       "[           160.0225, 1],\n",
       "[             161.29, 1],\n",
       "[           162.5625, 1],\n",
       "[             163.84, 1],\n",
       "[           165.1225, 1],\n",
       "[             166.41, 1],\n",
       "[           167.7025, 1],\n",
       "[              169.0, 1],\n",
       "[           170.3025, 1],\n",
       "[             171.61, 1],\n",
       "[           172.9225, 1],\n",
       "[             174.24, 1],\n",
       "[           175.5625, 1],\n",
       "[             176.89, 1],\n",
       "[           178.2225, 1],\n",
       "[             179.56, 1],\n",
       "[           180.9025, 1],\n",
       "[             182.25, 1],\n",
       "[           183.6025, 1],\n",
       "[             184.96, 1],\n",
       "[           186.3225, 1],\n",
       "[             187.69, 1],\n",
       "[           189.0625, 1],\n",
       "[             190.44, 1],\n",
       "[           191.8225, 1],\n",
       "[             193.21, 1],\n",
       "[           194.6025, 1],\n",
       "[              196.0, 1],\n",
       "[           197.4025, 1],\n",
       "[             198.81, 1],\n",
       "[           200.2225, 1],\n",
       "[             201.64, 1],\n",
       "[           203.0625, 1],\n",
       "[             204.49, 1],\n",
       "[           205.9225, 1],\n",
       "[             207.36, 1],\n",
       "[           208.8025, 1],\n",
       "[             210.25, 1],\n",
       "[           211.7025, 1],\n",
       "[             213.16, 1],\n",
       "[           214.6225, 1],\n",
       "[             216.09, 1],\n",
       "[           217.5625, 1],\n",
       "[             219.04, 1],\n",
       "[           220.5225, 1],\n",
       "[             222.01, 1],\n",
       "[           223.5025, 1],\n",
       "[              225.0, 1]])"
      ]
     },
     "execution_count": 21,
     "metadata": {},
     "output_type": "execute_result"
    }
   ],
   "source": [
    "# Definir símbolos\n",
    "B0, B1, x = sp.symbols('B0 B1 x')  # ln(A), B\n",
    "A_sym, B_sym = sp.symbols('A B')   # Coeficientes finales\n",
    "C_val = 5\n",
    "\n",
    "# Preparar los datos\n",
    "data = prepare_data(data)\n",
    "\n",
    "# Transformar los datos: z = (x - C)^2, y = ln(y)\n",
    "transformed_data = []\n",
    "for xi, yi in data:\n",
    "    z = (xi - C_val)**2\n",
    "    if yi <= 0:\n",
    "        continue  # Evitar log de 0 o negativo\n",
    "    transformed_data.append((z, np.log(yi)))\n",
    "\n",
    "if len(transformed_data) < 2:\n",
    "    raise ValueError(\"Insufficient valid points after transformation.\")\n",
    "\n",
    "# Construir matriz A y vector y para el sistema lineal\n",
    "A_mat = sp.Matrix([[zi, 1] for zi, _ in transformed_data])\n",
    "y_vec = sp.Matrix([yi for _, yi in transformed_data])\n",
    "\n",
    "# Resolver el sistema normal: (A^T A) * [B1, B0]^T = A^T * y\n",
    "AtA = A_mat.T * A_mat\n",
    "Aty = A_mat.T * y_vec\n",
    "solution = AtA.inv() * Aty\n",
    "\n",
    "# Extraer los valores de B1 y B0\n",
    "B1_val = float(solution[0])\n",
    "B0_val = float(solution[1])\n",
    "A_val = np.exp(B0_val)\n",
    "B_val = -B1_val\n",
    "\n",
    "# Modelo ajustado\n",
    "adjusted_model = A_val * sp.exp(-B_val * (x - C_val)**2)\n",
    "print(\"\\nModelo ajustado:\")\n",
    "y = sp.symbols('y')\n",
    "display(sp.Eq(y, adjusted_model))\n",
    "A_mat"
   ]
  },
  {
   "cell_type": "markdown",
   "id": "6e91d560",
   "metadata": {},
   "source": [
    "#### h. Exponencial con Coseno"
   ]
  },
  {
   "cell_type": "code",
   "execution_count": 20,
   "id": "54f6c87e",
   "metadata": {},
   "outputs": [
    {
     "name": "stdout",
     "output_type": "stream",
     "text": [
      "\n",
      "Modelo ajustado:\n"
     ]
    },
    {
     "data": {
      "text/latex": [
       "$\\displaystyle y = e^{- 0.02 x^{2}} \\cos{\\left(1.0 x \\right)}$"
      ],
      "text/plain": [
       "Eq(y, exp(-0.02*x**2)*cos(1.0*x))"
      ]
     },
     "metadata": {},
     "output_type": "display_data"
    }
   ],
   "source": [
    "# Definir símbolos\n",
    "c, x = sp.symbols('c x')\n",
    "y = sp.symbols('y')\n",
    "\n",
    "# Parámetro ω estimado visualmente (puedes cambiar estos valores)\n",
    "x_max1 = 0\n",
    "x_max2 = 2 * np.pi\n",
    "T = abs(x_max2 - x_max1)\n",
    "w = 2 * np.pi / T\n",
    "\n",
    "# Preparar los datos\n",
    "data = prepare_data(data)\n",
    "\n",
    "# Filtrar puntos donde cos(w*x) ≠ 0 y y/cos(wx) > 0\n",
    "filtered_data = []\n",
    "for xi, yi in data:\n",
    "    cos_val = np.cos(w * xi)\n",
    "    if abs(cos_val) < 1e-6:\n",
    "        continue  # evitar división por cero\n",
    "    ratio = yi / cos_val\n",
    "    if ratio > 0:\n",
    "        filtered_data.append((xi, np.log(ratio)))\n",
    "\n",
    "# Si no hay suficientes puntos, abortar\n",
    "if len(filtered_data) < 2:\n",
    "    raise ValueError(\"No hay suficientes puntos válidos para linealizar.\")\n",
    "\n",
    "# Montar sistema A * c = ln(y / cos(wx))\n",
    "A = sp.Matrix([[xi**2] for xi, _ in filtered_data])\n",
    "y_vec = sp.Matrix([val for _, val in filtered_data])\n",
    "\n",
    "# Resolver sistema normal\n",
    "AtA = A.T * A\n",
    "Aty = A.T * y_vec\n",
    "c_val = float((AtA.inv() * Aty)[0])\n",
    "\n",
    "# Modelo ajustado\n",
    "adjusted_model = sp.exp(c_val * x**2) * sp.cos(w * x)\n",
    "\n",
    "# Mostrar modelo\n",
    "print(\"\\nModelo ajustado:\")\n",
    "display(sp.Eq(y, adjusted_model))"
   ]
  },
  {
   "cell_type": "markdown",
   "id": "693de614",
   "metadata": {},
   "source": [
    "#### i. Asintótica"
   ]
  },
  {
   "cell_type": "code",
   "execution_count": 10,
   "id": "c0e20e24",
   "metadata": {},
   "outputs": [
    {
     "name": "stdout",
     "output_type": "stream",
     "text": [
      "\n",
      "Modelo ajustado:\n"
     ]
    },
    {
     "data": {
      "text/latex": [
       "$\\displaystyle y = \\frac{2.05686830915934}{\\left|{x - 7}\\right|^{2.03417414120434}}$"
      ],
      "text/plain": [
       "Eq(y, 2.05686830915934/Abs(x - 7)**2.03417414120434)"
      ]
     },
     "metadata": {},
     "output_type": "display_data"
    }
   ],
   "source": [
    "# Definir símbolos\n",
    "A_sym, B_sym, x = sp.symbols('A B x')\n",
    "y = sp.symbols('y')\n",
    "\n",
    "data = prepare_data(data)\n",
    "\n",
    "# Asumimos centro conocido\n",
    "center = 7\n",
    "\n",
    "# Filtrar donde y > 0 y x ≠ center\n",
    "filtered_data = [(xi, yi) for xi, yi in data if yi > 0 and xi != center]\n",
    "if len(filtered_data) < 2:\n",
    "    raise ValueError(\"No hay suficientes datos válidos para ajustar el modelo.\")\n",
    "\n",
    "# Linealización: ln(y) = ln(A) - B * ln(|x - c|)\n",
    "A_matrix = sp.Matrix([[1, -np.log(abs(xi - center))] for xi, yi in filtered_data])\n",
    "y_vec = sp.Matrix([np.log(yi) for _, yi in filtered_data])\n",
    "\n",
    "# Resolver el sistema normal\n",
    "AtA = A_matrix.T * A_matrix\n",
    "Aty = A_matrix.T * y_vec\n",
    "if AtA.det() == 0:\n",
    "    raise ValueError(\"La matriz A^T*A es singular.\")\n",
    "solution = AtA.inv() * Aty\n",
    "\n",
    "# Extraer parámetros\n",
    "lnA_val = float(solution[0])\n",
    "B_val = float(solution[1])\n",
    "A_val = np.exp(lnA_val)\n",
    "\n",
    "# Modelo ajustado\n",
    "adjusted_model = A_val / (abs(x - center) ** B_val)\n",
    "\n",
    "print(\"\\nModelo ajustado:\")\n",
    "display(sp.Eq(y, adjusted_model))"
   ]
  },
  {
   "cell_type": "markdown",
   "id": "cf0115c0",
   "metadata": {},
   "source": [
    "### 4. Visualización y Análisis de Resultados"
   ]
  },
  {
   "cell_type": "code",
   "execution_count": null,
   "id": "38b548ee",
   "metadata": {},
   "outputs": [
    {
     "data": {
      "image/png": "[encoded data removed]",
      "text/plain": [
       "<Figure size 600x400 with 1 Axes>"
      ]
     },
     "metadata": {},
     "output_type": "display_data"
    },
    {
     "name": "stdout",
     "output_type": "stream",
     "text": [
      "[0.0, 1.0, 2.0, 3.0, 4.0, 5.0, 5.5, 5.8, 6.0, 8.0, 8.2, 8.5, 9.0, 10.0, 11.0, 13.0, 16.0, 17.0, 18.0, 19.0, 20.0]\n"
     ]
    }
   ],
   "source": [
    "# Visualizar el modelo ajustado\n",
    "plt.figure(figsize=(6, 4))\n",
    "plt.scatter([xi for xi, yi in data], [yi for xi, yi in data], label='Datos')\n",
    "x_vals = [xi for xi, yi in data]\n",
    "y_vals = [adjusted_model.subs(x, xi) for xi in x_vals]\n",
    "plt.plot(x_vals, y_vals, color='red', label='Modelo Ajustado')\n",
    "plt.xlabel('x')\n",
    "plt.ylabel('y')\n",
    "plt.title('Visualización del modelo ajustado')\n",
    "plt.legend()\n",
    "plt.grid(True)\n",
    "plt.show()"
   ]
  },
  {
   "cell_type": "code",
   "execution_count": 12,
   "id": "a45f29f5",
   "metadata": {},
   "outputs": [
    {
     "name": "stdout",
     "output_type": "stream",
     "text": [
      "R cuadrado: 0.999004748090875\n",
      "ECM: 0.0203816874152554\n"
     ]
    }
   ],
   "source": [
    "# Evaluar el modelo ajustado\n",
    "# Calcular R cuadrado (Coeficiente de determinación)\n",
    "y_actual = [yi for xi, yi in data]\n",
    "y_predicted = [adjusted_model.subs(x, xi) for xi, yi in data]\n",
    "\n",
    "# Suma total de cuadrados (SST)\n",
    "sst = sum((yi - sp.Rational(sum(y_actual) / len(y_actual)))**2 for yi in y_actual)\n",
    "\n",
    "# Suma de cuadrados residuales (SSR)\n",
    "ssr = sum((yi - y_pred)**2 for yi, y_pred in zip(y_actual, y_predicted))\n",
    "\n",
    "# R cuadrado\n",
    "r_squared = 1 - (ssr / sst)\n",
    "\n",
    "# Calcular el Error Cuadrático Medio (ECM)\n",
    "ecm = ((sum((yi - y_pred)**2 for yi, y_pred in zip(y_actual, y_predicted)) / len(y_actual))** 0.5)\n",
    "\n",
    "print(f\"R cuadrado: {r_squared}\")\n",
    "print(f\"ECM: {ecm}\")"
   ]
  }
 ],
 "metadata": {
  "kernelspec": {
   "display_name": "ModelosSimulacion",
   "language": "python",
   "name": "python3"
  },
  "language_info": {
   "codemirror_mode": {
    "name": "ipython",
    "version": 3
   },
   "file_extension": ".py",
   "mimetype": "text/x-python",
   "name": "python",
   "nbconvert_exporter": "python",
   "pygments_lexer": "ipython3",
   "version": "3.13.5"
  }
 },
 "nbformat": 4,
 "nbformat_minor": 5
}
