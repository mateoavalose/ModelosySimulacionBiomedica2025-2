{
 "cells": [
  {
   "cell_type": "markdown",
   "id": "6903a348",
   "metadata": {},
   "source": [
    "## Quiz 1: Modelos de Regresión"
   ]
  },
  {
   "cell_type": "markdown",
   "id": "1eaad3c8",
   "metadata": {},
   "source": [
    "### 1. Importación, limpieza y visualización de la matriz de datos"
   ]
  },
  {
   "cell_type": "code",
   "execution_count": 61,
   "id": "3d4bb3b5",
   "metadata": {},
   "outputs": [
    {
     "data": {
      "text/latex": [
       "$\\displaystyle \\left[\\begin{matrix}-10.0 & 13.75\\\\-8.0 & 13.06\\\\-5.0 & 11.04\\\\-2.0 & 9.11\\\\-1.0 & 7.99\\\\0.0 & 5.75\\\\1.0 & 4.59\\\\2.0 & 0.22\\\\2.95 & -15.21\\\\4.0 & 0.19\\\\4.5 & 2.28\\\\5.5 & 4.94\\\\6.5 & 6.88\\\\7.0 & 7.34\\\\10.0 & 10.94\\\\12.0 & 12.22\\\\15.0 & 13.18\\\\20.0 & 14.78\\\\30.0 & 18.09\\\\50.0 & 20.44\\end{matrix}\\right]$"
      ],
      "text/plain": [
       "Matrix([\n",
       "[-10.0,  13.75],\n",
       "[ -8.0,  13.06],\n",
       "[ -5.0,  11.04],\n",
       "[ -2.0,   9.11],\n",
       "[ -1.0,   7.99],\n",
       "[  0.0,   5.75],\n",
       "[  1.0,   4.59],\n",
       "[  2.0,   0.22],\n",
       "[ 2.95, -15.21],\n",
       "[  4.0,   0.19],\n",
       "[  4.5,   2.28],\n",
       "[  5.5,   4.94],\n",
       "[  6.5,   6.88],\n",
       "[  7.0,   7.34],\n",
       "[ 10.0,  10.94],\n",
       "[ 12.0,  12.22],\n",
       "[ 15.0,  13.18],\n",
       "[ 20.0,  14.78],\n",
       "[ 30.0,  18.09],\n",
       "[ 50.0,  20.44]])"
      ]
     },
     "execution_count": 61,
     "metadata": {},
     "output_type": "execute_result"
    }
   ],
   "source": [
    "import csv\n",
    "import numpy as np\n",
    "import sympy as sp\n",
    "import matplotlib.pyplot as plt\n",
    "\n",
    "with open('data_quiz.csv', newline='') as csvfile:\n",
    "    reader = csv.reader(csvfile)\n",
    "    csv_data = [row for row in reader]\n",
    "numeric_data = []\n",
    "for row in csv_data[1:]:\n",
    "    clean_row = [cell.replace('\\u200b', '').strip() for cell in row]\n",
    "    try:\n",
    "        numeric_row = [float(cell) for cell in clean_row]\n",
    "        numeric_data.append(numeric_row)\n",
    "    except ValueError:\n",
    "        continue # Ignora las filas que no se pueden convertir\n",
    "\n",
    "data = sp.Matrix(numeric_data)\n",
    "data"
   ]
  },
  {
   "cell_type": "markdown",
   "id": "dd987b6a",
   "metadata": {},
   "source": [
    "### 2. Visualización Gráfica de los Datos"
   ]
  },
  {
   "cell_type": "code",
   "execution_count": 62,
   "id": "14f36561",
   "metadata": {},
   "outputs": [
    {
     "data": {
      "image/png": "[encoded data removed]",
      "text/plain": [
       "<Figure size 600x400 with 1 Axes>"
      ]
     },
     "metadata": {},
     "output_type": "display_data"
    }
   ],
   "source": [
    "# Visualización de los datos\n",
    "plt.figure(figsize=(6, 4))\n",
    "plt.scatter(data[:, 0], data[:, 1], label='Datos')\n",
    "plt.xlabel('x')\n",
    "plt.ylabel('y')\n",
    "plt.title('Visualización de los datos')\n",
    "plt.legend()\n",
    "plt.grid(True)\n",
    "plt.show()\n",
    "\n",
    "# Convertir la matriz de datos a lista de tuplas\n",
    "def prepare_data(raw_data):\n",
    "    if isinstance(raw_data, sp.Matrix):\n",
    "        return [(float(raw_data[i, 0]), float(raw_data[i, 1])) for i in range(raw_data.rows)]\n",
    "    elif isinstance(raw_data, (list, tuple)):\n",
    "        return [(float(xi), float(yi)) for xi, yi in raw_data]\n",
    "    else:\n",
    "        raise TypeError(\"Formato de datos no reconocido: use lista de tuplas o Sympy Matrix\")"
   ]
  },
  {
   "cell_type": "markdown",
   "id": "18bd4c08",
   "metadata": {},
   "source": [
    "### 3. Escoger la función para la tendencia de los datos"
   ]
  },
  {
   "cell_type": "code",
   "execution_count": 63,
   "id": "a4065bdc",
   "metadata": {},
   "outputs": [
    {
     "name": "stdout",
     "output_type": "stream",
     "text": [
      "\n",
      "Modelo ajustado:\n"
     ]
    },
    {
     "data": {
      "text/latex": [
       "$\\displaystyle y = 5.24353167297823 \\log{\\left(\\left|{x - 3}\\right| \\right)} + 0.370458394586276$"
      ],
      "text/plain": [
       "Eq(y, 5.24353167297823*log(Abs(x - 3)) + 0.370458394586276)"
      ]
     },
     "metadata": {},
     "output_type": "display_data"
    },
    {
     "name": "stdout",
     "output_type": "stream",
     "text": [
      "\n",
      "Matriz A:\n"
     ]
    },
    {
     "data": {
      "text/latex": [
       "$\\displaystyle \\left[\\begin{matrix}2.56494935746154 & 1\\\\2.39789527279837 & 1\\\\2.07944154167984 & 1\\\\1.6094379124341 & 1\\\\1.38629436111989 & 1\\\\1.09861228866811 & 1\\\\0.693147180559945 & 1\\\\0.0 & 1\\\\-2.99573227355399 & 1\\\\0.0 & 1\\\\0.405465108108164 & 1\\\\0.916290731874155 & 1\\\\1.25276296849537 & 1\\\\1.38629436111989 & 1\\\\1.94591014905531 & 1\\\\2.19722457733622 & 1\\\\2.484906649788 & 1\\\\2.83321334405622 & 1\\\\3.29583686600433 & 1\\\\3.85014760171006 & 1\\end{matrix}\\right]$"
      ],
      "text/plain": [
       "Matrix([\n",
       "[ 2.56494935746154, 1],\n",
       "[ 2.39789527279837, 1],\n",
       "[ 2.07944154167984, 1],\n",
       "[  1.6094379124341, 1],\n",
       "[ 1.38629436111989, 1],\n",
       "[ 1.09861228866811, 1],\n",
       "[0.693147180559945, 1],\n",
       "[              0.0, 1],\n",
       "[-2.99573227355399, 1],\n",
       "[              0.0, 1],\n",
       "[0.405465108108164, 1],\n",
       "[0.916290731874155, 1],\n",
       "[ 1.25276296849537, 1],\n",
       "[ 1.38629436111989, 1],\n",
       "[ 1.94591014905531, 1],\n",
       "[ 2.19722457733622, 1],\n",
       "[   2.484906649788, 1],\n",
       "[ 2.83321334405622, 1],\n",
       "[ 3.29583686600433, 1],\n",
       "[ 3.85014760171006, 1]])"
      ]
     },
     "metadata": {},
     "output_type": "display_data"
    },
    {
     "name": "stdout",
     "output_type": "stream",
     "text": [
      "\n",
      "Vector y:\n"
     ]
    },
    {
     "data": {
      "text/latex": [
       "$\\displaystyle \\left[\\begin{matrix}13.75\\\\13.06\\\\11.04\\\\9.11\\\\7.99\\\\5.75\\\\4.59\\\\0.22\\\\-15.21\\\\0.19\\\\2.28\\\\4.94\\\\6.88\\\\7.34\\\\10.94\\\\12.22\\\\13.18\\\\14.78\\\\18.09\\\\20.44\\end{matrix}\\right]$"
      ],
      "text/plain": [
       "Matrix([\n",
       "[ 13.75],\n",
       "[ 13.06],\n",
       "[ 11.04],\n",
       "[  9.11],\n",
       "[  7.99],\n",
       "[  5.75],\n",
       "[  4.59],\n",
       "[  0.22],\n",
       "[-15.21],\n",
       "[  0.19],\n",
       "[  2.28],\n",
       "[  4.94],\n",
       "[  6.88],\n",
       "[  7.34],\n",
       "[ 10.94],\n",
       "[ 12.22],\n",
       "[ 13.18],\n",
       "[ 14.78],\n",
       "[ 18.09],\n",
       "[ 20.44]])"
      ]
     },
     "metadata": {},
     "output_type": "display_data"
    },
    {
     "name": "stdout",
     "output_type": "stream",
     "text": [
      "\n",
      "Matriz A^T * A:\n"
     ]
    },
    {
     "data": {
      "text/latex": [
       "$\\displaystyle \\left[\\begin{matrix}84.8244763850421 & 29.4020979987155\\\\29.4020979987155 & 20\\end{matrix}\\right]$"
      ],
      "text/plain": [
       "Matrix([\n",
       "[84.8244763850421, 29.4020979987155],\n",
       "[29.4020979987155,               20]])"
      ]
     },
     "metadata": {},
     "output_type": "display_data"
    },
    {
     "name": "stdout",
     "output_type": "stream",
     "text": [
      "\n",
      "Matriz A^T inversa:\n"
     ]
    },
    {
     "data": {
      "text/latex": [
       "$\\displaystyle \\left[\\begin{matrix}0.0240382835345452 & -0.0353387984101804\\\\-0.0353387984101804 & 0.101951740700649\\end{matrix}\\right]$"
      ],
      "text/plain": [
       "Matrix([\n",
       "[ 0.0240382835345452, -0.0353387984101804],\n",
       "[-0.0353387984101804,   0.101951740700649]])"
      ]
     },
     "metadata": {},
     "output_type": "display_data"
    },
    {
     "name": "stdout",
     "output_type": "stream",
     "text": [
      "\n",
      "Vector A^T * y:\n"
     ]
    },
    {
     "data": {
      "text/latex": [
       "$\\displaystyle \\left[\\begin{matrix}455.672082590834\\\\161.58\\end{matrix}\\right]$"
      ],
      "text/plain": [
       "Matrix([\n",
       "[455.672082590834],\n",
       "[          161.58]])"
      ]
     },
     "metadata": {},
     "output_type": "display_data"
    },
    {
     "name": "stdout",
     "output_type": "stream",
     "text": [
      "\n",
      "Vector de coeficientes C:\n"
     ]
    },
    {
     "data": {
      "text/latex": [
       "$\\displaystyle \\left[\\begin{matrix}5.24353167297823\\\\0.370458394586276\\end{matrix}\\right]$"
      ],
      "text/plain": [
       "Matrix([\n",
       "[ 5.24353167297823],\n",
       "[0.370458394586276]])"
      ]
     },
     "metadata": {},
     "output_type": "display_data"
    }
   ],
   "source": [
    "# Definir símbolos y modelo\n",
    "C0, C1, x = sp.symbols('C0 C1 x')\n",
    "model_logarithmic = C0 + C1*sp.log(abs(x-3))\n",
    "\n",
    "# Preparar datos\n",
    "data = prepare_data(data)\n",
    "\n",
    "# Transformar\n",
    "A = sp.Matrix([[np.log(abs(xi-3)), 1] for xi, yi in data]) \n",
    "y_vec = sp.Matrix([yi for xi, yi in data])\n",
    "\n",
    "# Resolver las ecuaciones: (A^T A)·[C1, C0]^T = A^T·y\n",
    "AtA = A.T * A\n",
    "Aty = A.T * y_vec\n",
    "\n",
    "if AtA.det() == 0:\n",
    "    raise ValueError(\"A^T*A es singular en el modelo logarítmico.\")\n",
    "\n",
    "C_vec = AtA.inv() * Aty  # [C1, C0]\n",
    "C1_val = float(C_vec[0])\n",
    "C0_val = float(C_vec[1])\n",
    "\n",
    "# Modelo ajustado simbólico\n",
    "adjusted_model = model_logarithmic.subs({C0: C0_val, C1: C1_val})\n",
    "print(\"\\nModelo ajustado:\")\n",
    "y = sp.symbols('y')\n",
    "display(sp.Eq(y, sp.simplify(adjusted_model)))\n",
    "\n",
    "# Imprimir matrices\n",
    "print(\"\\nMatriz A:\")\n",
    "display(A)\n",
    "print(\"\\nVector y:\")\n",
    "display(y_vec)\n",
    "print(\"\\nMatriz A^T * A:\")\n",
    "display(AtA)\n",
    "print(\"\\nMatriz A^T inversa:\")\n",
    "display(AtA.inv())\n",
    "print(\"\\nVector A^T * y:\")\n",
    "display(Aty)\n",
    "print(\"\\nVector de coeficientes C:\")\n",
    "display(C_vec)"
   ]
  },
  {
   "cell_type": "markdown",
   "id": "cf0115c0",
   "metadata": {},
   "source": [
    "### 4. Visualización y Análisis de Resultados"
   ]
  },
  {
   "cell_type": "code",
   "execution_count": 64,
   "id": "38b548ee",
   "metadata": {},
   "outputs": [
    {
     "data": {
      "image/png": "[encoded data removed]",
      "text/plain": [
       "<Figure size 600x400 with 1 Axes>"
      ]
     },
     "metadata": {},
     "output_type": "display_data"
    }
   ],
   "source": [
    "# Visualizar el modelo ajustado\n",
    "plt.figure(figsize=(6, 4))\n",
    "plt.scatter([xi for xi, yi in data], [yi for xi, yi in data], label='Datos')\n",
    "x_vals = [xi for xi, yi in data]\n",
    "y_vals = [adjusted_model.subs(x, xi) for xi in x_vals]\n",
    "plt.plot(x_vals, y_vals, color='red', label='Modelo Ajustado')\n",
    "plt.xlabel('x')\n",
    "plt.ylabel('y')\n",
    "plt.title('Visualización del modelo ajustado')\n",
    "plt.legend()\n",
    "plt.grid(True)\n",
    "plt.show()"
   ]
  },
  {
   "cell_type": "code",
   "execution_count": 65,
   "id": "a45f29f5",
   "metadata": {},
   "outputs": [
    {
     "name": "stdout",
     "output_type": "stream",
     "text": [
      "R cuadrado: 0.998484588777377\n",
      "ECM: 0.294612885475172\n"
     ]
    }
   ],
   "source": [
    "# Evaluar el modelo ajustado\n",
    "# Calcular R cuadrado (Coeficiente de determinación)\n",
    "y_actual = [yi for xi, yi in data]\n",
    "y_predicted = [adjusted_model.subs(x, xi) for xi, yi in data]\n",
    "\n",
    "# Suma total de cuadrados (SST)\n",
    "sst = sum((yi - sp.Rational(sum(y_actual) / len(y_actual)))**2 for yi in y_actual)\n",
    "\n",
    "# Suma de cuadrados residuales (SSR)\n",
    "ssr = sum((yi - y_pred)**2 for yi, y_pred in zip(y_actual, y_predicted))\n",
    "\n",
    "# R cuadrado\n",
    "r_squared = 1 - (ssr / sst)\n",
    "\n",
    "# Calcular el Error Cuadrático Medio (ECM)\n",
    "ecm = ((sum((yi - y_pred)**2 for yi, y_pred in zip(y_actual, y_predicted)) / len(y_actual))** 0.5)\n",
    "\n",
    "print(f\"R cuadrado: {r_squared}\")\n",
    "print(f\"ECM: {ecm}\")"
   ]
  }
 ],
 "metadata": {
  "kernelspec": {
   "display_name": "ModelosSimulacion",
   "language": "python",
   "name": "python3"
  },
  "language_info": {
   "codemirror_mode": {
    "name": "ipython",
    "version": 3
   },
   "file_extension": ".py",
   "mimetype": "text/x-python",
   "name": "python",
   "nbconvert_exporter": "python",
   "pygments_lexer": "ipython3",
   "version": "3.13.5"
  }
 },
 "nbformat": 4,
 "nbformat_minor": 5
}
