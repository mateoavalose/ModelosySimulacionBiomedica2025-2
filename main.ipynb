{
 "cells": [
  {
   "cell_type": "markdown",
   "id": "6903a348",
   "metadata": {},
   "source": [
    "# Modelos y Simulación Biomédica\n",
    "## Quiz 1: Modelos de Regresión"
   ]
  },
  {
   "cell_type": "markdown",
   "id": "1eaad3c8",
   "metadata": {},
   "source": [
    "### 1. Importación, limpieza y visualización de la matriz de datos"
   ]
  },
  {
   "cell_type": "code",
   "execution_count": 10,
   "id": "3d4bb3b5",
   "metadata": {},
   "outputs": [
    {
     "data": {
      "text/latex": [
       "$\\displaystyle \\left[\\begin{matrix}0.0 & 0.0\\\\1.0 & 1.1\\\\2.0 & 1.3\\\\3.0 & 2.5\\\\4.0 & 4.2\\\\5.0 & 6.8\\\\6.0 & 8.8\\end{matrix}\\right]$"
      ],
      "text/plain": [
       "Matrix([\n",
       "[0.0, 0.0],\n",
       "[1.0, 1.1],\n",
       "[2.0, 1.3],\n",
       "[3.0, 2.5],\n",
       "[4.0, 4.2],\n",
       "[5.0, 6.8],\n",
       "[6.0, 8.8]])"
      ]
     },
     "execution_count": 10,
     "metadata": {},
     "output_type": "execute_result"
    }
   ],
   "source": [
    "import csv\n",
    "import sympy as sp\n",
    "\n",
    "with open('data.csv', newline='') as csvfile:\n",
    "    reader = csv.reader(csvfile)\n",
    "    csv_data = [row for row in reader]\n",
    "numeric_data = []\n",
    "for row in csv_data[1:]:\n",
    "    clean_row = [cell.replace('\\u200b', '').strip() for cell in row]\n",
    "    try:\n",
    "        numeric_row = [float(cell) for cell in clean_row]\n",
    "        numeric_data.append(numeric_row)\n",
    "    except ValueError:\n",
    "        continue # Skip rows that cannot be converted\n",
    "\n",
    "numeric_data = sp.Matrix(numeric_data)\n",
    "numeric_data"
   ]
  },
  {
   "cell_type": "markdown",
   "id": "dd987b6a",
   "metadata": {},
   "source": [
    "### 2. Visualización Gráfica de los Datos"
   ]
  },
  {
   "cell_type": "code",
   "execution_count": 13,
   "id": "14f36561",
   "metadata": {},
   "outputs": [
    {
     "data": {
      "image/png": "[encoded data removed]",
      "text/plain": [
       "<Figure size 600x400 with 1 Axes>"
      ]
     },
     "metadata": {},
     "output_type": "display_data"
    }
   ],
   "source": [
    "import matplotlib.pyplot as plt\n",
    "\n",
    "plt.figure(figsize=(6, 4))\n",
    "plt.scatter(numeric_data[:, 0], numeric_data[:, 1], label='Datos')\n",
    "plt.xlabel('x')\n",
    "plt.ylabel('y')\n",
    "plt.title('Visualización de los datos')\n",
    "plt.legend()\n",
    "plt.grid(True)\n",
    "plt.show()\n"
   ]
  }
 ],
 "metadata": {
  "kernelspec": {
   "display_name": "ModelosSimulacion",
   "language": "python",
   "name": "python3"
  },
  "language_info": {
   "codemirror_mode": {
    "name": "ipython",
    "version": 3
   },
   "file_extension": ".py",
   "mimetype": "text/x-python",
   "name": "python",
   "nbconvert_exporter": "python",
   "pygments_lexer": "ipython3",
   "version": "3.13.5"
  }
 },
 "nbformat": 4,
 "nbformat_minor": 5
}
